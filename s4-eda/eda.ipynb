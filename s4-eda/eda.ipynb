{
 "cells": [
  {
   "cell_type": "markdown",
   "id": "b3e7a72d",
   "metadata": {},
   "source": [
    "# Exploratory Data Analysis (EDA) on Movies Dataset\n",
    "\n",
    "This notebook demonstrates how to load and clean the `movies.csv` dataset in preparation for exploratory data analysis (EDA)."
   ]
  },
  {
   "cell_type": "code",
   "execution_count": 5,
   "id": "532e1da9",
   "metadata": {},
   "outputs": [],
   "source": [
    "# Import required libraries\n",
    "import pandas as pd\n",
    "import numpy as np"
   ]
  },
  {
   "cell_type": "code",
   "execution_count": 6,
   "id": "574272d9",
   "metadata": {},
   "outputs": [
    {
     "data": {
      "text/html": [
       "<div>\n",
       "<style scoped>\n",
       "    .dataframe tbody tr th:only-of-type {\n",
       "        vertical-align: middle;\n",
       "    }\n",
       "\n",
       "    .dataframe tbody tr th {\n",
       "        vertical-align: top;\n",
       "    }\n",
       "\n",
       "    .dataframe thead th {\n",
       "        text-align: right;\n",
       "    }\n",
       "</style>\n",
       "<table border=\"1\" class=\"dataframe\">\n",
       "  <thead>\n",
       "    <tr style=\"text-align: right;\">\n",
       "      <th></th>\n",
       "      <th>MOVIES</th>\n",
       "      <th>YEAR</th>\n",
       "      <th>GENRE</th>\n",
       "      <th>RATING</th>\n",
       "      <th>ONE-LINE</th>\n",
       "      <th>STARS</th>\n",
       "      <th>VOTES</th>\n",
       "      <th>RunTime</th>\n",
       "      <th>Gross</th>\n",
       "    </tr>\n",
       "  </thead>\n",
       "  <tbody>\n",
       "    <tr>\n",
       "      <th>0</th>\n",
       "      <td>Blood Red Sky</td>\n",
       "      <td>(2021)</td>\n",
       "      <td>\\nAction, Horror, Thriller</td>\n",
       "      <td>6.1</td>\n",
       "      <td>\\nA woman with a mysterious illness is forced ...</td>\n",
       "      <td>\\n    Director:\\nPeter Thorwarth\\n| \\n    Star...</td>\n",
       "      <td>21,062</td>\n",
       "      <td>121.0</td>\n",
       "      <td>NaN</td>\n",
       "    </tr>\n",
       "    <tr>\n",
       "      <th>1</th>\n",
       "      <td>Masters of the Universe: Revelation</td>\n",
       "      <td>(2021– )</td>\n",
       "      <td>\\nAnimation, Action, Adventure</td>\n",
       "      <td>5.0</td>\n",
       "      <td>\\nThe war for Eternia begins again in what may...</td>\n",
       "      <td>\\n            \\n    Stars:\\nChris Wood, \\nSara...</td>\n",
       "      <td>17,870</td>\n",
       "      <td>25.0</td>\n",
       "      <td>NaN</td>\n",
       "    </tr>\n",
       "    <tr>\n",
       "      <th>2</th>\n",
       "      <td>The Walking Dead</td>\n",
       "      <td>(2010–2022)</td>\n",
       "      <td>\\nDrama, Horror, Thriller</td>\n",
       "      <td>8.2</td>\n",
       "      <td>\\nSheriff Deputy Rick Grimes wakes up from a c...</td>\n",
       "      <td>\\n            \\n    Stars:\\nAndrew Lincoln, \\n...</td>\n",
       "      <td>885,805</td>\n",
       "      <td>44.0</td>\n",
       "      <td>NaN</td>\n",
       "    </tr>\n",
       "    <tr>\n",
       "      <th>3</th>\n",
       "      <td>Rick and Morty</td>\n",
       "      <td>(2013– )</td>\n",
       "      <td>\\nAnimation, Adventure, Comedy</td>\n",
       "      <td>9.2</td>\n",
       "      <td>\\nAn animated series that follows the exploits...</td>\n",
       "      <td>\\n            \\n    Stars:\\nJustin Roiland, \\n...</td>\n",
       "      <td>414,849</td>\n",
       "      <td>23.0</td>\n",
       "      <td>NaN</td>\n",
       "    </tr>\n",
       "    <tr>\n",
       "      <th>4</th>\n",
       "      <td>Army of Thieves</td>\n",
       "      <td>(2021)</td>\n",
       "      <td>\\nAction, Crime, Horror</td>\n",
       "      <td>NaN</td>\n",
       "      <td>\\nA prequel, set before the events of Army of ...</td>\n",
       "      <td>\\n    Director:\\nMatthias Schweighöfer\\n| \\n  ...</td>\n",
       "      <td>NaN</td>\n",
       "      <td>NaN</td>\n",
       "      <td>NaN</td>\n",
       "    </tr>\n",
       "  </tbody>\n",
       "</table>\n",
       "</div>"
      ],
      "text/plain": [
       "                                MOVIES         YEAR  \\\n",
       "0                        Blood Red Sky       (2021)   \n",
       "1  Masters of the Universe: Revelation     (2021– )   \n",
       "2                     The Walking Dead  (2010–2022)   \n",
       "3                       Rick and Morty     (2013– )   \n",
       "4                      Army of Thieves       (2021)   \n",
       "\n",
       "                                        GENRE  RATING  \\\n",
       "0      \\nAction, Horror, Thriller                 6.1   \n",
       "1  \\nAnimation, Action, Adventure                 5.0   \n",
       "2       \\nDrama, Horror, Thriller                 8.2   \n",
       "3  \\nAnimation, Adventure, Comedy                 9.2   \n",
       "4         \\nAction, Crime, Horror                 NaN   \n",
       "\n",
       "                                            ONE-LINE  \\\n",
       "0  \\nA woman with a mysterious illness is forced ...   \n",
       "1  \\nThe war for Eternia begins again in what may...   \n",
       "2  \\nSheriff Deputy Rick Grimes wakes up from a c...   \n",
       "3  \\nAn animated series that follows the exploits...   \n",
       "4  \\nA prequel, set before the events of Army of ...   \n",
       "\n",
       "                                               STARS    VOTES  RunTime Gross  \n",
       "0  \\n    Director:\\nPeter Thorwarth\\n| \\n    Star...   21,062    121.0   NaN  \n",
       "1  \\n            \\n    Stars:\\nChris Wood, \\nSara...   17,870     25.0   NaN  \n",
       "2  \\n            \\n    Stars:\\nAndrew Lincoln, \\n...  885,805     44.0   NaN  \n",
       "3  \\n            \\n    Stars:\\nJustin Roiland, \\n...  414,849     23.0   NaN  \n",
       "4  \\n    Director:\\nMatthias Schweighöfer\\n| \\n  ...      NaN      NaN   NaN  "
      ]
     },
     "execution_count": 6,
     "metadata": {},
     "output_type": "execute_result"
    }
   ],
   "source": [
    "# Load the movies.csv dataset\n",
    "df = pd.read_csv('movies.csv')\n",
    "df.head()"
   ]
  },
  {
   "cell_type": "markdown",
   "id": "d135b474",
   "metadata": {},
   "source": [
    "## Data Cleaning Steps\n",
    "\n",
    "We will perform the following cleaning steps:\n",
    "\n",
    "- Check for missing values\n",
    "- Remove duplicate rows\n",
    "- Handle missing or invalid data\n",
    "- Convert data types if necessary"
   ]
  },
  {
   "cell_type": "code",
   "execution_count": 7,
   "id": "ce8ba5e0",
   "metadata": {},
   "outputs": [
    {
     "name": "stdout",
     "output_type": "stream",
     "text": [
      "Missing values per column:\n",
      "MOVIES         0\n",
      "YEAR         644\n",
      "GENRE         80\n",
      "RATING      1820\n",
      "ONE-LINE       0\n",
      "STARS          0\n",
      "VOTES       1820\n",
      "RunTime     2958\n",
      "Gross       9539\n",
      "dtype: int64\n",
      "Number of duplicate rows: 431\n"
     ]
    }
   ],
   "source": [
    "# Check for missing values\n",
    "missing_values = df.isnull().sum()\n",
    "print('Missing values per column:')\n",
    "print(missing_values)\n",
    "\n",
    "# Check for duplicate rows\n",
    "duplicates = df.duplicated().sum()\n",
    "print(f'Number of duplicate rows: {duplicates}')"
   ]
  },
  {
   "cell_type": "code",
   "execution_count": 8,
   "id": "6bef7895",
   "metadata": {},
   "outputs": [
    {
     "name": "stdout",
     "output_type": "stream",
     "text": [
      "Shape after cleaning: (460, 9)\n"
     ]
    },
    {
     "data": {
      "text/html": [
       "<div>\n",
       "<style scoped>\n",
       "    .dataframe tbody tr th:only-of-type {\n",
       "        vertical-align: middle;\n",
       "    }\n",
       "\n",
       "    .dataframe tbody tr th {\n",
       "        vertical-align: top;\n",
       "    }\n",
       "\n",
       "    .dataframe thead th {\n",
       "        text-align: right;\n",
       "    }\n",
       "</style>\n",
       "<table border=\"1\" class=\"dataframe\">\n",
       "  <thead>\n",
       "    <tr style=\"text-align: right;\">\n",
       "      <th></th>\n",
       "      <th>MOVIES</th>\n",
       "      <th>YEAR</th>\n",
       "      <th>GENRE</th>\n",
       "      <th>RATING</th>\n",
       "      <th>ONE-LINE</th>\n",
       "      <th>STARS</th>\n",
       "      <th>VOTES</th>\n",
       "      <th>RunTime</th>\n",
       "      <th>Gross</th>\n",
       "    </tr>\n",
       "  </thead>\n",
       "  <tbody>\n",
       "    <tr>\n",
       "      <th>77</th>\n",
       "      <td>The Hitman's Bodyguard</td>\n",
       "      <td>(2017)</td>\n",
       "      <td>\\nAction, Comedy, Crime</td>\n",
       "      <td>6.9</td>\n",
       "      <td>\\nThe world's top bodyguard gets a new client,...</td>\n",
       "      <td>\\n    Director:\\nPatrick Hughes\\n| \\n    Stars...</td>\n",
       "      <td>205,979</td>\n",
       "      <td>118.0</td>\n",
       "      <td>$75.47M</td>\n",
       "    </tr>\n",
       "    <tr>\n",
       "      <th>85</th>\n",
       "      <td>Jurassic Park</td>\n",
       "      <td>(1993)</td>\n",
       "      <td>\\nAction, Adventure, Sci-Fi</td>\n",
       "      <td>8.1</td>\n",
       "      <td>\\nA pragmatic paleontologist visiting an almos...</td>\n",
       "      <td>\\n    Director:\\nSteven Spielberg\\n| \\n    Sta...</td>\n",
       "      <td>897,444</td>\n",
       "      <td>127.0</td>\n",
       "      <td>$402.45M</td>\n",
       "    </tr>\n",
       "    <tr>\n",
       "      <th>95</th>\n",
       "      <td>Don't Breathe</td>\n",
       "      <td>(2016)</td>\n",
       "      <td>\\nCrime, Horror, Thriller</td>\n",
       "      <td>7.1</td>\n",
       "      <td>\\nHoping to walk away with a massive fortune, ...</td>\n",
       "      <td>\\n    Director:\\nFede Alvarez\\n| \\n    Stars:\\...</td>\n",
       "      <td>237,601</td>\n",
       "      <td>88.0</td>\n",
       "      <td>$89.22M</td>\n",
       "    </tr>\n",
       "    <tr>\n",
       "      <th>111</th>\n",
       "      <td>The Lord of the Rings: The Fellowship of the Ring</td>\n",
       "      <td>(2001)</td>\n",
       "      <td>\\nAction, Adventure, Drama</td>\n",
       "      <td>8.8</td>\n",
       "      <td>\\nA meek Hobbit from the Shire and eight compa...</td>\n",
       "      <td>\\n    Director:\\nPeter Jackson\\n| \\n    Stars:...</td>\n",
       "      <td>1,713,028</td>\n",
       "      <td>178.0</td>\n",
       "      <td>$315.54M</td>\n",
       "    </tr>\n",
       "    <tr>\n",
       "      <th>125</th>\n",
       "      <td>Escape Room</td>\n",
       "      <td>(I) (2019)</td>\n",
       "      <td>\\nAction, Adventure, Horror</td>\n",
       "      <td>6.4</td>\n",
       "      <td>\\nSix strangers find themselves in a maze of d...</td>\n",
       "      <td>\\n    Director:\\nAdam Robitel\\n| \\n    Stars:\\...</td>\n",
       "      <td>99,351</td>\n",
       "      <td>99.0</td>\n",
       "      <td>$57.01M</td>\n",
       "    </tr>\n",
       "  </tbody>\n",
       "</table>\n",
       "</div>"
      ],
      "text/plain": [
       "                                                MOVIES        YEAR  \\\n",
       "77                              The Hitman's Bodyguard      (2017)   \n",
       "85                                       Jurassic Park      (1993)   \n",
       "95                                       Don't Breathe      (2016)   \n",
       "111  The Lord of the Rings: The Fellowship of the Ring      (2001)   \n",
       "125                                        Escape Room  (I) (2019)   \n",
       "\n",
       "                                       GENRE  RATING  \\\n",
       "77       \\nAction, Comedy, Crime                 6.9   \n",
       "85   \\nAction, Adventure, Sci-Fi                 8.1   \n",
       "95     \\nCrime, Horror, Thriller                 7.1   \n",
       "111   \\nAction, Adventure, Drama                 8.8   \n",
       "125  \\nAction, Adventure, Horror                 6.4   \n",
       "\n",
       "                                              ONE-LINE  \\\n",
       "77   \\nThe world's top bodyguard gets a new client,...   \n",
       "85   \\nA pragmatic paleontologist visiting an almos...   \n",
       "95   \\nHoping to walk away with a massive fortune, ...   \n",
       "111  \\nA meek Hobbit from the Shire and eight compa...   \n",
       "125  \\nSix strangers find themselves in a maze of d...   \n",
       "\n",
       "                                                 STARS      VOTES  RunTime  \\\n",
       "77   \\n    Director:\\nPatrick Hughes\\n| \\n    Stars...    205,979    118.0   \n",
       "85   \\n    Director:\\nSteven Spielberg\\n| \\n    Sta...    897,444    127.0   \n",
       "95   \\n    Director:\\nFede Alvarez\\n| \\n    Stars:\\...    237,601     88.0   \n",
       "111  \\n    Director:\\nPeter Jackson\\n| \\n    Stars:...  1,713,028    178.0   \n",
       "125  \\n    Director:\\nAdam Robitel\\n| \\n    Stars:\\...     99,351     99.0   \n",
       "\n",
       "        Gross  \n",
       "77    $75.47M  \n",
       "85   $402.45M  \n",
       "95    $89.22M  \n",
       "111  $315.54M  \n",
       "125   $57.01M  "
      ]
     },
     "execution_count": 8,
     "metadata": {},
     "output_type": "execute_result"
    }
   ],
   "source": [
    "# Remove duplicate rows\n",
    "df_cleaned = df.drop_duplicates()\n",
    "\n",
    "# Drop rows with missing values (if any)\n",
    "df_cleaned = df_cleaned.dropna()\n",
    "\n",
    "print(f'Shape after cleaning: {df_cleaned.shape}')\n",
    "df_cleaned.head()"
   ]
  },
  {
   "cell_type": "code",
   "execution_count": null,
   "id": "33e30bfe",
   "metadata": {},
   "outputs": [],
   "source": [
    "# Remove brackets surrounding the values in the 'YEAR' column\n",
    "df['YEAR'] = df['YEAR'].str.strip().str.replace(r'^\\(|\\)$', '', regex=True)\n",
    "df_cleaned['YEAR'] = df_cleaned['YEAR'].str.strip().str.replace(r'^\\(|\\)$', '', regex=True)"
   ]
  },
  {
   "cell_type": "code",
   "execution_count": 12,
   "id": "c099f79e",
   "metadata": {},
   "outputs": [
    {
     "name": "stderr",
     "output_type": "stream",
     "text": [
      "<>:2: SyntaxWarning: invalid escape sequence '\\d'\n",
      "<>:3: SyntaxWarning: invalid escape sequence '\\d'\n",
      "<>:2: SyntaxWarning: invalid escape sequence '\\d'\n",
      "<>:3: SyntaxWarning: invalid escape sequence '\\d'\n",
      "/var/folders/_0/y84_kvr94qn118s0909pkzlc0000gn/T/ipykernel_92319/2439115484.py:2: SyntaxWarning: invalid escape sequence '\\d'\n",
      "  df['YEAR'] = df['YEAR'].str.extract('(\\d+)', expand=False)\n",
      "/var/folders/_0/y84_kvr94qn118s0909pkzlc0000gn/T/ipykernel_92319/2439115484.py:3: SyntaxWarning: invalid escape sequence '\\d'\n",
      "  df_cleaned['YEAR'] = df_cleaned['YEAR'].str.extract('(\\d+)', expand=False)\n"
     ]
    }
   ],
   "source": [
    "# Keep only numeric characters in the 'YEAR' column\n",
    "df['YEAR'] = df['YEAR'].str.extract('(\\d+)', expand=False)\n",
    "df_cleaned['YEAR'] = df_cleaned['YEAR'].str.extract('(\\d+)', expand=False)"
   ]
  },
  {
   "cell_type": "markdown",
   "id": "eda40565",
   "metadata": {},
   "source": [
    "## Summary\n",
    "\n",
    "The dataset has been loaded and cleaned. It is now ready for exploratory data analysis (EDA)."
   ]
  },
  {
   "cell_type": "code",
   "execution_count": 13,
   "id": "c595b5b3",
   "metadata": {},
   "outputs": [
    {
     "name": "stdout",
     "output_type": "stream",
     "text": [
      "Cleaned data saved to movies_cleaned.xlsx\n"
     ]
    }
   ],
   "source": [
    "# Save the cleaned dataset to an Excel file\n",
    "df_cleaned.to_excel('movies_cleaned.xlsx', index=False)\n",
    "print('Cleaned data saved to movies_cleaned.xlsx')"
   ]
  }
 ],
 "metadata": {
  "kernelspec": {
   "display_name": "Python 3",
   "language": "python",
   "name": "python3"
  },
  "language_info": {
   "codemirror_mode": {
    "name": "ipython",
    "version": 3
   },
   "file_extension": ".py",
   "mimetype": "text/x-python",
   "name": "python",
   "nbconvert_exporter": "python",
   "pygments_lexer": "ipython3",
   "version": "3.12.2"
  }
 },
 "nbformat": 4,
 "nbformat_minor": 5
}

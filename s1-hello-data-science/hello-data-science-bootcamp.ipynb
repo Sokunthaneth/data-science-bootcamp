{
 "cells": [
  {
   "cell_type": "markdown",
   "id": "9c49eabc",
   "metadata": {},
   "source": [
    "# Welcome to the complete data science journey bootcamp!"
   ]
  },
  {
   "cell_type": "code",
   "execution_count": 1,
   "id": "7cc6dc31",
   "metadata": {},
   "outputs": [
    {
     "name": "stdout",
     "output_type": "stream",
     "text": [
      "Hello DS Bootcamp\n"
     ]
    }
   ],
   "source": [
    "print(\"Hello DS Bootcamp\")"
   ]
  },
  {
   "cell_type": "code",
   "execution_count": 2,
   "id": "ebe283fe",
   "metadata": {},
   "outputs": [
    {
     "name": "stdout",
     "output_type": "stream",
     "text": [
      "15\n"
     ]
    }
   ],
   "source": [
    "a = 10\n",
    "b = 5\n",
    "c = a + b\n",
    "\n",
    "print(c)"
   ]
  }
 ],
 "metadata": {
  "kernelspec": {
   "display_name": "Python 3",
   "language": "python",
   "name": "python3"
  },
  "language_info": {
   "codemirror_mode": {
    "name": "ipython",
    "version": 3
   },
   "file_extension": ".py",
   "mimetype": "text/x-python",
   "name": "python",
   "nbconvert_exporter": "python",
   "pygments_lexer": "ipython3",
   "version": "3.12.2"
  }
 },
 "nbformat": 4,
 "nbformat_minor": 5
}

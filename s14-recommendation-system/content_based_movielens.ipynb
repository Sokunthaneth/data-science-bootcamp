{
 "cells": [
  {
   "cell_type": "markdown",
   "id": "b9607699",
   "metadata": {},
   "source": [
    "# Content-Based Recommendation System with MovieLens Dataset\n",
    "\n",
    "This notebook demonstrates how to build a content-based movie recommendation system using the MovieLens dataset. We will walk through data loading, preprocessing, feature extraction, similarity computation, and generating recommendations."
   ]
  },
  {
   "cell_type": "code",
   "execution_count": 31,
   "id": "ad59467f",
   "metadata": {},
   "outputs": [],
   "source": [
    "# Import Required Libraries\n",
    "import pandas as pd\n",
    "import numpy as np\n",
    "from sklearn.feature_extraction.text import TfidfVectorizer\n",
    "from sklearn.metrics.pairwise import cosine_similarity\n",
    "import matplotlib.pyplot as plt\n",
    "import seaborn as sns"
   ]
  },
  {
   "cell_type": "markdown",
   "id": "7e71e241",
   "metadata": {},
   "source": [
    "## Load and Explore the MovieLens Dataset\n",
    "\n",
    "We will load the MovieLens dataset (movies.csv and ratings.csv) and perform basic exploration."
   ]
  },
  {
   "cell_type": "code",
   "execution_count": 32,
   "id": "e1fd09be",
   "metadata": {},
   "outputs": [
    {
     "data": {
      "text/html": [
       "<div>\n",
       "<style scoped>\n",
       "    .dataframe tbody tr th:only-of-type {\n",
       "        vertical-align: middle;\n",
       "    }\n",
       "\n",
       "    .dataframe tbody tr th {\n",
       "        vertical-align: top;\n",
       "    }\n",
       "\n",
       "    .dataframe thead th {\n",
       "        text-align: right;\n",
       "    }\n",
       "</style>\n",
       "<table border=\"1\" class=\"dataframe\">\n",
       "  <thead>\n",
       "    <tr style=\"text-align: right;\">\n",
       "      <th></th>\n",
       "      <th>movieId</th>\n",
       "      <th>title</th>\n",
       "      <th>genres</th>\n",
       "    </tr>\n",
       "  </thead>\n",
       "  <tbody>\n",
       "    <tr>\n",
       "      <th>0</th>\n",
       "      <td>1</td>\n",
       "      <td>Toy Story (1995)</td>\n",
       "      <td>Adventure|Animation|Children|Comedy|Fantasy</td>\n",
       "    </tr>\n",
       "    <tr>\n",
       "      <th>1</th>\n",
       "      <td>2</td>\n",
       "      <td>Jumanji (1995)</td>\n",
       "      <td>Adventure|Children|Fantasy</td>\n",
       "    </tr>\n",
       "    <tr>\n",
       "      <th>2</th>\n",
       "      <td>3</td>\n",
       "      <td>Grumpier Old Men (1995)</td>\n",
       "      <td>Comedy|Romance</td>\n",
       "    </tr>\n",
       "    <tr>\n",
       "      <th>3</th>\n",
       "      <td>4</td>\n",
       "      <td>Waiting to Exhale (1995)</td>\n",
       "      <td>Comedy|Drama|Romance</td>\n",
       "    </tr>\n",
       "    <tr>\n",
       "      <th>4</th>\n",
       "      <td>5</td>\n",
       "      <td>Father of the Bride Part II (1995)</td>\n",
       "      <td>Comedy</td>\n",
       "    </tr>\n",
       "  </tbody>\n",
       "</table>\n",
       "</div>"
      ],
      "text/plain": [
       "   movieId                               title  \\\n",
       "0        1                    Toy Story (1995)   \n",
       "1        2                      Jumanji (1995)   \n",
       "2        3             Grumpier Old Men (1995)   \n",
       "3        4            Waiting to Exhale (1995)   \n",
       "4        5  Father of the Bride Part II (1995)   \n",
       "\n",
       "                                        genres  \n",
       "0  Adventure|Animation|Children|Comedy|Fantasy  \n",
       "1                   Adventure|Children|Fantasy  \n",
       "2                               Comedy|Romance  \n",
       "3                         Comedy|Drama|Romance  \n",
       "4                                       Comedy  "
      ]
     },
     "metadata": {},
     "output_type": "display_data"
    },
    {
     "data": {
      "text/html": [
       "<div>\n",
       "<style scoped>\n",
       "    .dataframe tbody tr th:only-of-type {\n",
       "        vertical-align: middle;\n",
       "    }\n",
       "\n",
       "    .dataframe tbody tr th {\n",
       "        vertical-align: top;\n",
       "    }\n",
       "\n",
       "    .dataframe thead th {\n",
       "        text-align: right;\n",
       "    }\n",
       "</style>\n",
       "<table border=\"1\" class=\"dataframe\">\n",
       "  <thead>\n",
       "    <tr style=\"text-align: right;\">\n",
       "      <th></th>\n",
       "      <th>userId</th>\n",
       "      <th>movieId</th>\n",
       "      <th>rating</th>\n",
       "      <th>timestamp</th>\n",
       "    </tr>\n",
       "  </thead>\n",
       "  <tbody>\n",
       "    <tr>\n",
       "      <th>0</th>\n",
       "      <td>1</td>\n",
       "      <td>1</td>\n",
       "      <td>4.0</td>\n",
       "      <td>964982703</td>\n",
       "    </tr>\n",
       "    <tr>\n",
       "      <th>1</th>\n",
       "      <td>1</td>\n",
       "      <td>3</td>\n",
       "      <td>4.0</td>\n",
       "      <td>964981247</td>\n",
       "    </tr>\n",
       "    <tr>\n",
       "      <th>2</th>\n",
       "      <td>1</td>\n",
       "      <td>6</td>\n",
       "      <td>4.0</td>\n",
       "      <td>964982224</td>\n",
       "    </tr>\n",
       "    <tr>\n",
       "      <th>3</th>\n",
       "      <td>1</td>\n",
       "      <td>47</td>\n",
       "      <td>5.0</td>\n",
       "      <td>964983815</td>\n",
       "    </tr>\n",
       "    <tr>\n",
       "      <th>4</th>\n",
       "      <td>1</td>\n",
       "      <td>50</td>\n",
       "      <td>5.0</td>\n",
       "      <td>964982931</td>\n",
       "    </tr>\n",
       "  </tbody>\n",
       "</table>\n",
       "</div>"
      ],
      "text/plain": [
       "   userId  movieId  rating  timestamp\n",
       "0       1        1     4.0  964982703\n",
       "1       1        3     4.0  964981247\n",
       "2       1        6     4.0  964982224\n",
       "3       1       47     5.0  964983815\n",
       "4       1       50     5.0  964982931"
      ]
     },
     "metadata": {},
     "output_type": "display_data"
    },
    {
     "name": "stdout",
     "output_type": "stream",
     "text": [
      "Missing values in movies:\n",
      "movieId    0\n",
      "title      0\n",
      "genres     0\n",
      "dtype: int64\n",
      "\n",
      "Missing values in ratings:\n",
      "userId       0\n",
      "movieId      0\n",
      "rating       0\n",
      "timestamp    0\n",
      "dtype: int64\n"
     ]
    }
   ],
   "source": [
    "# Load MovieLens dataset (update the path if needed)\n",
    "movies = pd.read_csv('ml-latest-small/movies.csv')\n",
    "ratings = pd.read_csv('ml-latest-small/ratings.csv')\n",
    "\n",
    "# Display first few rows of movies and ratings\n",
    "display(movies.head())\n",
    "display(ratings.head())\n",
    "\n",
    "# Check for missing values\n",
    "print('Missing values in movies:')\n",
    "print(movies.isnull().sum())\n",
    "print('\\nMissing values in ratings:')\n",
    "print(ratings.isnull().sum())"
   ]
  },
  {
   "cell_type": "markdown",
   "id": "122af0f6",
   "metadata": {},
   "source": [
    "## Preprocess Movie Data\n",
    "\n",
    "Clean and preprocess the movie data, including handling missing values and formatting genres."
   ]
  },
  {
   "cell_type": "code",
   "execution_count": 33,
   "id": "bf2c88b7",
   "metadata": {},
   "outputs": [
    {
     "data": {
      "text/html": [
       "<div>\n",
       "<style scoped>\n",
       "    .dataframe tbody tr th:only-of-type {\n",
       "        vertical-align: middle;\n",
       "    }\n",
       "\n",
       "    .dataframe tbody tr th {\n",
       "        vertical-align: top;\n",
       "    }\n",
       "\n",
       "    .dataframe thead th {\n",
       "        text-align: right;\n",
       "    }\n",
       "</style>\n",
       "<table border=\"1\" class=\"dataframe\">\n",
       "  <thead>\n",
       "    <tr style=\"text-align: right;\">\n",
       "      <th></th>\n",
       "      <th>title</th>\n",
       "      <th>genres</th>\n",
       "      <th>clean_genres</th>\n",
       "    </tr>\n",
       "  </thead>\n",
       "  <tbody>\n",
       "    <tr>\n",
       "      <th>0</th>\n",
       "      <td>Toy Story (1995)</td>\n",
       "      <td>Adventure|Animation|Children|Comedy|Fantasy</td>\n",
       "      <td>Adventure Animation Children Comedy Fantasy</td>\n",
       "    </tr>\n",
       "    <tr>\n",
       "      <th>1</th>\n",
       "      <td>Jumanji (1995)</td>\n",
       "      <td>Adventure|Children|Fantasy</td>\n",
       "      <td>Adventure Children Fantasy</td>\n",
       "    </tr>\n",
       "    <tr>\n",
       "      <th>2</th>\n",
       "      <td>Grumpier Old Men (1995)</td>\n",
       "      <td>Comedy|Romance</td>\n",
       "      <td>Comedy Romance</td>\n",
       "    </tr>\n",
       "    <tr>\n",
       "      <th>3</th>\n",
       "      <td>Waiting to Exhale (1995)</td>\n",
       "      <td>Comedy|Drama|Romance</td>\n",
       "      <td>Comedy Drama Romance</td>\n",
       "    </tr>\n",
       "    <tr>\n",
       "      <th>4</th>\n",
       "      <td>Father of the Bride Part II (1995)</td>\n",
       "      <td>Comedy</td>\n",
       "      <td>Comedy</td>\n",
       "    </tr>\n",
       "  </tbody>\n",
       "</table>\n",
       "</div>"
      ],
      "text/plain": [
       "                                title  \\\n",
       "0                    Toy Story (1995)   \n",
       "1                      Jumanji (1995)   \n",
       "2             Grumpier Old Men (1995)   \n",
       "3            Waiting to Exhale (1995)   \n",
       "4  Father of the Bride Part II (1995)   \n",
       "\n",
       "                                        genres  \\\n",
       "0  Adventure|Animation|Children|Comedy|Fantasy   \n",
       "1                   Adventure|Children|Fantasy   \n",
       "2                               Comedy|Romance   \n",
       "3                         Comedy|Drama|Romance   \n",
       "4                                       Comedy   \n",
       "\n",
       "                                  clean_genres  \n",
       "0  Adventure Animation Children Comedy Fantasy  \n",
       "1                   Adventure Children Fantasy  \n",
       "2                               Comedy Romance  \n",
       "3                         Comedy Drama Romance  \n",
       "4                                       Comedy  "
      ]
     },
     "metadata": {},
     "output_type": "display_data"
    }
   ],
   "source": [
    "# Preprocess movie data\n",
    "# Fill missing genres with empty string\n",
    "movies['genres'] = movies['genres'].fillna('')\n",
    "\n",
    "# Replace '|' with space for easier text processing\n",
    "def clean_genres(genres):\n",
    "    return genres.replace('|', ' ')\n",
    "\n",
    "movies['clean_genres'] = movies['genres'].apply(clean_genres)\n",
    "\n",
    "# Display processed movies\n",
    "display(movies[['title', 'genres', 'clean_genres']].head())"
   ]
  },
  {
   "cell_type": "markdown",
   "id": "81277515",
   "metadata": {},
   "source": [
    "## Extract Movie Features (Genres)\n",
    "\n",
    "We will use TF-IDF vectorization to transform the genres into feature vectors for each movie."
   ]
  },
  {
   "cell_type": "code",
   "execution_count": 34,
   "id": "68b3f2bf",
   "metadata": {},
   "outputs": [
    {
     "name": "stdout",
     "output_type": "stream",
     "text": [
      "TF-IDF matrix shape: (9742, 24)\n"
     ]
    }
   ],
   "source": [
    "# Extract features from genres using TF-IDF\n",
    "vectorizer = TfidfVectorizer()\n",
    "tfidf_matrix = vectorizer.fit_transform(movies['clean_genres'])\n",
    "\n",
    "print('TF-IDF matrix shape:', tfidf_matrix.shape)"
   ]
  },
  {
   "cell_type": "markdown",
   "id": "ab49af1b",
   "metadata": {},
   "source": [
    "## Compute Movie Similarity Matrix\n",
    "\n",
    "We will compute the similarity between movies using cosine similarity based on the extracted genre features."
   ]
  },
  {
   "cell_type": "code",
   "execution_count": 35,
   "id": "6d63ec53",
   "metadata": {},
   "outputs": [
    {
     "name": "stdout",
     "output_type": "stream",
     "text": [
      "Cosine similarity matrix shape: (9742, 9742)\n"
     ]
    }
   ],
   "source": [
    "# Compute cosine similarity matrix\n",
    "cosine_sim = cosine_similarity(tfidf_matrix)\n",
    "\n",
    "print('Cosine similarity matrix shape:', cosine_sim.shape)"
   ]
  },
  {
   "cell_type": "markdown",
   "id": "bd4f0ac7",
   "metadata": {},
   "source": [
    "## Build Content-Based Recommendation Function\n",
    "\n",
    "We will implement a function that recommends movies similar to a given movie using the similarity matrix."
   ]
  },
  {
   "cell_type": "code",
   "execution_count": 36,
   "id": "0bc42808",
   "metadata": {},
   "outputs": [],
   "source": [
    "# Function to recommend movies based on content similarity\n",
    "def recommend_movies(title, movies_df, cosine_sim_matrix, top_n=10):\n",
    "    # Get the index of the movie that matches the title\n",
    "    idx = movies_df[movies_df['title'].str.lower() == title.lower()].index\n",
    "    if len(idx) == 0:\n",
    "        print(f\"Movie '{title}' not found.\")\n",
    "        return []\n",
    "    idx = idx[0]\n",
    "    # Get pairwise similarity scores\n",
    "    sim_scores = list(enumerate(cosine_sim_matrix[idx]))\n",
    "    # Sort movies by similarity score\n",
    "    sim_scores = sorted(sim_scores, key=lambda x: x[1], reverse=True)\n",
    "    # Get the scores of the top_n most similar movies (excluding itself)\n",
    "    sim_scores = sim_scores[1:top_n+1]\n",
    "    # Get the movie indices\n",
    "    movie_indices = [i[0] for i in sim_scores]\n",
    "    # Return the top_n most similar movies\n",
    "    return movies_df.iloc[movie_indices][['title', 'genres']]"
   ]
  },
  {
   "cell_type": "markdown",
   "id": "abac2588",
   "metadata": {},
   "source": [
    "## Generate Recommendations for a Sample Movie\n",
    "\n",
    "Let's generate and display recommendations for a sample movie."
   ]
  },
  {
   "cell_type": "code",
   "execution_count": 37,
   "id": "cf11b7ab",
   "metadata": {},
   "outputs": [
    {
     "name": "stdout",
     "output_type": "stream",
     "text": [
      "Recommendations for 'Toy Story (1995)':\n"
     ]
    },
    {
     "data": {
      "text/html": [
       "<div>\n",
       "<style scoped>\n",
       "    .dataframe tbody tr th:only-of-type {\n",
       "        vertical-align: middle;\n",
       "    }\n",
       "\n",
       "    .dataframe tbody tr th {\n",
       "        vertical-align: top;\n",
       "    }\n",
       "\n",
       "    .dataframe thead th {\n",
       "        text-align: right;\n",
       "    }\n",
       "</style>\n",
       "<table border=\"1\" class=\"dataframe\">\n",
       "  <thead>\n",
       "    <tr style=\"text-align: right;\">\n",
       "      <th></th>\n",
       "      <th>title</th>\n",
       "      <th>genres</th>\n",
       "    </tr>\n",
       "  </thead>\n",
       "  <tbody>\n",
       "    <tr>\n",
       "      <th>1706</th>\n",
       "      <td>Antz (1998)</td>\n",
       "      <td>Adventure|Animation|Children|Comedy|Fantasy</td>\n",
       "    </tr>\n",
       "    <tr>\n",
       "      <th>2355</th>\n",
       "      <td>Toy Story 2 (1999)</td>\n",
       "      <td>Adventure|Animation|Children|Comedy|Fantasy</td>\n",
       "    </tr>\n",
       "    <tr>\n",
       "      <th>2809</th>\n",
       "      <td>Adventures of Rocky and Bullwinkle, The (2000)</td>\n",
       "      <td>Adventure|Animation|Children|Comedy|Fantasy</td>\n",
       "    </tr>\n",
       "    <tr>\n",
       "      <th>3000</th>\n",
       "      <td>Emperor's New Groove, The (2000)</td>\n",
       "      <td>Adventure|Animation|Children|Comedy|Fantasy</td>\n",
       "    </tr>\n",
       "    <tr>\n",
       "      <th>3568</th>\n",
       "      <td>Monsters, Inc. (2001)</td>\n",
       "      <td>Adventure|Animation|Children|Comedy|Fantasy</td>\n",
       "    </tr>\n",
       "    <tr>\n",
       "      <th>6194</th>\n",
       "      <td>Wild, The (2006)</td>\n",
       "      <td>Adventure|Animation|Children|Comedy|Fantasy</td>\n",
       "    </tr>\n",
       "    <tr>\n",
       "      <th>6486</th>\n",
       "      <td>Shrek the Third (2007)</td>\n",
       "      <td>Adventure|Animation|Children|Comedy|Fantasy</td>\n",
       "    </tr>\n",
       "    <tr>\n",
       "      <th>6948</th>\n",
       "      <td>Tale of Despereaux, The (2008)</td>\n",
       "      <td>Adventure|Animation|Children|Comedy|Fantasy</td>\n",
       "    </tr>\n",
       "    <tr>\n",
       "      <th>7760</th>\n",
       "      <td>Asterix and the Vikings (Astérix et les Viking...</td>\n",
       "      <td>Adventure|Animation|Children|Comedy|Fantasy</td>\n",
       "    </tr>\n",
       "    <tr>\n",
       "      <th>8219</th>\n",
       "      <td>Turbo (2013)</td>\n",
       "      <td>Adventure|Animation|Children|Comedy|Fantasy</td>\n",
       "    </tr>\n",
       "  </tbody>\n",
       "</table>\n",
       "</div>"
      ],
      "text/plain": [
       "                                                  title  \\\n",
       "1706                                        Antz (1998)   \n",
       "2355                                 Toy Story 2 (1999)   \n",
       "2809     Adventures of Rocky and Bullwinkle, The (2000)   \n",
       "3000                   Emperor's New Groove, The (2000)   \n",
       "3568                              Monsters, Inc. (2001)   \n",
       "6194                                   Wild, The (2006)   \n",
       "6486                             Shrek the Third (2007)   \n",
       "6948                     Tale of Despereaux, The (2008)   \n",
       "7760  Asterix and the Vikings (Astérix et les Viking...   \n",
       "8219                                       Turbo (2013)   \n",
       "\n",
       "                                           genres  \n",
       "1706  Adventure|Animation|Children|Comedy|Fantasy  \n",
       "2355  Adventure|Animation|Children|Comedy|Fantasy  \n",
       "2809  Adventure|Animation|Children|Comedy|Fantasy  \n",
       "3000  Adventure|Animation|Children|Comedy|Fantasy  \n",
       "3568  Adventure|Animation|Children|Comedy|Fantasy  \n",
       "6194  Adventure|Animation|Children|Comedy|Fantasy  \n",
       "6486  Adventure|Animation|Children|Comedy|Fantasy  \n",
       "6948  Adventure|Animation|Children|Comedy|Fantasy  \n",
       "7760  Adventure|Animation|Children|Comedy|Fantasy  \n",
       "8219  Adventure|Animation|Children|Comedy|Fantasy  "
      ]
     },
     "metadata": {},
     "output_type": "display_data"
    }
   ],
   "source": [
    "# Generate recommendations for a sample movie\n",
    "target_movie = 'Toy Story (1995)'\n",
    "print(f\"Recommendations for '{target_movie}':\")\n",
    "recommendations = recommend_movies(target_movie, movies, cosine_sim, top_n=10)\n",
    "display(recommendations)"
   ]
  },
  {
   "cell_type": "markdown",
   "id": "0cb94ba2",
   "metadata": {},
   "source": [
    "## Evaluate Recommendation Results\n",
    "\n",
    "Let's discuss and visualize the results. Optionally, we can compare recommendations with user ratings or preferences."
   ]
  },
  {
   "cell_type": "code",
   "execution_count": 38,
   "id": "a8ef31ae",
   "metadata": {},
   "outputs": [
    {
     "data": {
      "image/png": "[encoded data removed]",
      "text/plain": [
       "<Figure size 800x400 with 1 Axes>"
      ]
     },
     "metadata": {},
     "output_type": "display_data"
    },
    {
     "name": "stdout",
     "output_type": "stream",
     "text": [
      "The recommended movies are selected based on genre similarity to the target movie. You can further improve the system by incorporating additional features such as tags, plot summaries, or user ratings.\n"
     ]
    }
   ],
   "source": [
    "# Visualize genres of recommended movies\n",
    "if not recommendations.empty:\n",
    "    plt.figure(figsize=(8,4))\n",
    "    genres = recommendations['genres'].str.split('|').explode()\n",
    "    sns.countplot(y=genres, order=genres.value_counts().index)\n",
    "    plt.title('Genres of Recommended Movies')\n",
    "    plt.xlabel('Count')\n",
    "    plt.ylabel('Genre')\n",
    "    plt.show()\n",
    "else:\n",
    "    print('No recommendations to visualize.')\n",
    "\n",
    "# Discussion:\n",
    "print(\"The recommended movies are selected based on genre similarity to the target movie. You can further improve the system by incorporating additional features such as tags, plot summaries, or user ratings.\")"
   ]
  },
  {
   "cell_type": "markdown",
   "id": "23427a29",
   "metadata": {},
   "source": [
    "## Evaluation Metrics for Content-Based Recommendation Systems\n",
    "\n",
    "Here are common metrics to evaluate recommendation systems and how they apply to content-based filtering:\n",
    "\n",
    "- **RMSE (Root Mean Squared Error):**\n",
    "  - Measures the difference between predicted and actual ratings (if the system predicts ratings).\n",
    "  - Lower RMSE means better prediction accuracy.\n",
    "\n",
    "- **Precision:**\n",
    "  - Fraction of recommended items that are relevant (e.g., user actually liked them).\n",
    "  - High precision means most recommendations are useful.\n",
    "\n",
    "- **Recall:**\n",
    "  - Fraction of relevant items that are recommended out of all relevant items available.\n",
    "  - High recall means the system finds most of the items a user would like.\n",
    "\n",
    "- **Coverage:**\n",
    "  - Proportion of items that can be recommended by the system.\n",
    "  - High coverage means the system can recommend a wide variety of items.\n",
    "\n",
    "- **Diversity:**\n",
    "  - Measures how different the recommended items are from each other.\n",
    "  - High diversity means recommendations are not too similar, exposing users to a broader range of items.\n",
    "\n",
    "- **Serendipity:**\n",
    "  - Measures how surprising and unexpectedly interesting the recommendations are to the user.\n",
    "  - High serendipity means the system suggests items the user might not have found on their own, but still likes.\n",
    "\n",
    "In content-based filtering, precision, recall, coverage, and diversity are often computed by comparing the recommended movies to the user's actual preferences or held-out ratings. RMSE is used if the system predicts explicit ratings. Serendipity is more subjective and can be estimated by checking if recommendations are both relevant and novel to the user."
   ]
  },
  {
   "cell_type": "code",
   "execution_count": 39,
   "id": "64317eed",
   "metadata": {},
   "outputs": [],
   "source": [
    "# Example: Compute Precision, Recall, and Coverage for Recommendations\n",
    "# (Assume you have a test set of user-movie pairs and their true relevance)\n",
    "def evaluate_recommendations(recommend_func, test_users, test_ratings, movies_df, cosine_sim, top_n=10):\n",
    "    precision_list = []\n",
    "    recall_list = []\n",
    "    recommended_items = set()\n",
    "    relevant_items = set()\n",
    "    for user, true_movies in test_users.items():\n",
    "        # Get recommendations for this user (simulate by picking a favorite movie)\n",
    "        if not true_movies:\n",
    "            continue\n",
    "        recs = recommend_func(true_movies[0], movies_df, cosine_sim, top_n=top_n)\n",
    "        rec_titles = set(recs['title'])\n",
    "        true_titles = set([movies_df.loc[movies_df['movieId'] == m, 'title'].values[0] for m in true_movies if m in movies_df['movieId'].values])\n",
    "        recommended_items.update(rec_titles)\n",
    "        relevant_items.update(true_titles)\n",
    "        # Precision: relevant & recommended / recommended\n",
    "        if rec_titles:\n",
    "            precision = len(rec_titles & true_titles) / len(rec_titles)\n",
    "            precision_list.append(precision)\n",
    "        # Recall: relevant & recommended / relevant\n",
    "        if true_titles:\n",
    "            recall = len(rec_titles & true_titles) / len(true_titles)\n",
    "            recall_list.append(recall)\n",
    "    # Coverage: recommended items / all items\n",
    "    coverage = len(recommended_items) / len(movies_df)\n",
    "    avg_precision = np.mean(precision_list) if precision_list else 0\n",
    "    avg_recall = np.mean(recall_list) if recall_list else 0\n",
    "    print(f'Precision: {avg_precision:.2f}')\n",
    "    print(f'Recall: {avg_recall:.2f}')\n",
    "    print(f'Coverage: {coverage:.2f}')\n",
    "\n",
    "# Note: You need to prepare test_users (dict of userId: [list of relevant movieIds]) and test_ratings for a real evaluation."
   ]
  }
 ],
 "metadata": {
  "kernelspec": {
   "display_name": "Python 3",
   "language": "python",
   "name": "python3"
  },
  "language_info": {
   "codemirror_mode": {
    "name": "ipython",
    "version": 3
   },
   "file_extension": ".py",
   "mimetype": "text/x-python",
   "name": "python",
   "nbconvert_exporter": "python",
   "pygments_lexer": "ipython3",
   "version": "3.12.2"
  }
 },
 "nbformat": 4,
 "nbformat_minor": 5
}

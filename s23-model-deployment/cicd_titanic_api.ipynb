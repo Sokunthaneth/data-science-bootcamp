{
 "cells": [
  {
   "cell_type": "markdown",
   "id": "62215a45",
   "metadata": {},
   "source": [
    "# CI/CD for Titanic Survival Prediction API\n",
    "\n",
    "This notebook demonstrates how to set up Continuous Integration and Continuous Deployment (CI/CD) for the Dockerized Titanic survival prediction FastAPI app using GitHub Actions."
   ]
  },
  {
   "cell_type": "markdown",
   "id": "00eb861c",
   "metadata": {},
   "source": [
    "## CI/CD Workflow Overview\n",
    "\n",
    "- **Continuous Integration (CI):** Automatically build, test, and lint the app on every push or pull request.\n",
    "- **Continuous Deployment (CD):** Build and push the Docker image to a container registry (e.g., Docker Hub or GitHub Container Registry) and optionally deploy to a cloud service."
   ]
  },
  {
   "cell_type": "markdown",
   "id": "b5c23537",
   "metadata": {},
   "source": [
    "## Setting Up GitHub Actions\n",
    "\n",
    "GitHub Actions uses workflow files stored in the `.github/workflows/` directory of your repository. These files define the steps for CI/CD."
   ]
  },
  {
   "cell_type": "code",
   "execution_count": null,
   "id": "6ec19367",
   "metadata": {},
   "outputs": [],
   "source": [
    "# Write a sample GitHub Actions workflow for CI/CD\n",
    "workflow = '''\n",
    "name: CI/CD for Titanic API\n",
    "\n",
    "on:\n",
    "  push:\n",
    "    branches: [ main ]\n",
    "  pull_request:\n",
    "    branches: [ main ]\n",
    "\n",
    "jobs:\n",
    "  build-test:\n",
    "    runs-on: ubuntu-latest\n",
    "    steps:\n",
    "      - uses: actions/checkout@v3\n",
    "      - name: Set up Python\n",
    "        uses: actions/setup-python@v4\n",
    "        with:\n",
    "          python-version: '3.10'\n",
    "      - name: Install dependencies\n",
    "        run: |\n",
    "          python -m pip install --upgrade pip\n",
    "          pip install -r s23-model-deployment/requirements.txt\n",
    "      - name: Lint with flake8\n",
    "        run: |\n",
    "          pip install flake8\n",
    "          flake8 s23-model-deployment/titanic_api.py\n",
    "      - name: Test Docker build\n",
    "        run: |\n",
    "          docker build -t titanic-api s23-model-deployment/\n",
    "\n",
    "  docker-push:\n",
    "    needs: build-test\n",
    "    runs-on: ubuntu-latest\n",
    "    steps:\n",
    "      - uses: actions/checkout@v3\n",
    "      - name: Log in to Docker Hub\n",
    "        uses: docker/login-action@v3\n",
    "        with:\n",
    "          username: ${{ secrets.DOCKERHUB_USERNAME }}\n",
    "          password: ${{ secrets.DOCKERHUB_TOKEN }}\n",
    "      - name: Build and push Docker image\n",
    "        run: |\n",
    "          docker build -t ${{ secrets.DOCKERHUB_USERNAME }}/titanic-api:latest s23-model-deployment/\n",
    "          docker push ${{ secrets.DOCKERHUB_USERNAME }}/titanic-api:latest\n",
    "'''\n",
    "\n",
    "import os\n",
    "os.makedirs('.github/workflows', exist_ok=True)\n",
    "with open('.github/workflows/ci-cd.yml', 'w') as f:\n",
    "    f.write(workflow)\n",
    "print('GitHub Actions workflow file created at .github/workflows/ci-cd.yml')"
   ]
  },
  {
   "cell_type": "markdown",
   "id": "d92e7e28",
   "metadata": {},
   "source": [
    "## Notes on Secrets and Triggering\n",
    "\n",
    "- Store your Docker Hub credentials as repository secrets: `DOCKERHUB_USERNAME` and `DOCKERHUB_TOKEN`.\n",
    "- The workflow runs on every push or pull request to the `main` branch.\n",
    "- You can extend the workflow to deploy to cloud services (e.g., AWS, Azure, GCP) after pushing the Docker image."
   ]
  }
 ],
 "metadata": {
  "language_info": {
   "name": "python"
  }
 },
 "nbformat": 4,
 "nbformat_minor": 5
}

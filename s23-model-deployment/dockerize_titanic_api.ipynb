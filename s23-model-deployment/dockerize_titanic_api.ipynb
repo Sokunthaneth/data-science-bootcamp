{
 "cells": [
  {
   "cell_type": "markdown",
   "id": "627ad96a",
   "metadata": {},
   "source": [
    "# Dockerizing the Titanic Survival Prediction API\n",
    "\n",
    "This notebook demonstrates how to build a Docker image for the `titanic_api.py` FastAPI app, which serves the Titanic survival prediction model."
   ]
  },
  {
   "cell_type": "markdown",
   "id": "4aeecc9a",
   "metadata": {},
   "source": [
    "## Prerequisites\n",
    "\n",
    "- Docker installed on your system\n",
    "- `titanic_api.py` and `titanic_survival_model.joblib` in the same directory\n",
    "- `requirements.txt` listing all dependencies"
   ]
  },
  {
   "cell_type": "code",
   "execution_count": null,
   "id": "40948666",
   "metadata": {},
   "outputs": [],
   "source": [
    "# Create requirements.txt for the FastAPI app\n",
    "with open('requirements.txt', 'w') as f:\n",
    "    f.write('fastapi\\nuvicorn\\nscikit-learn\\njoblib\\nnumpy\\npandas\\n')\n",
    "print('requirements.txt created')"
   ]
  },
  {
   "cell_type": "markdown",
   "id": "3ddd7730",
   "metadata": {},
   "source": [
    "## Dockerfile\n",
    "\n",
    "Create a `Dockerfile` to containerize the FastAPI app. The Dockerfile will:\n",
    "- Use an official Python base image\n",
    "- Copy the app code and model file\n",
    "- Install dependencies\n",
    "- Expose the API port\n",
    "- Set the command to run the app with Uvicorn"
   ]
  },
  {
   "cell_type": "code",
   "execution_count": null,
   "id": "90e8bfdd",
   "metadata": {},
   "outputs": [],
   "source": [
    "# Write a Dockerfile for the FastAPI app\n",
    "dockerfile_content = '''\n",
    "FROM python:3.10-slim\n",
    "WORKDIR /app\n",
    "COPY requirements.txt ./\n",
    "RUN pip install --no-cache-dir -r requirements.txt\n",
    "COPY titanic_api.py ./\n",
    "COPY titanic_survival_model.joblib ./\n",
    "EXPOSE 8000\n",
    "CMD [\"uvicorn\", \"titanic_api:app\", \"--host\", \"0.0.0.0\", \"--port\", \"8000\"]\n",
    "'''\n",
    "with open('Dockerfile', 'w') as f:\n",
    "    f.write(dockerfile_content)\n",
    "print('Dockerfile created')"
   ]
  },
  {
   "cell_type": "markdown",
   "id": "4616c58e",
   "metadata": {},
   "source": [
    "## Build and Run the Docker Image\n",
    "\n",
    "Use the following commands in your terminal to build and run the Docker container:\n",
    "\n",
    "```sh\n",
    "# Build the Docker image\n",
    "docker build -t titanic-api .\n",
    "\n",
    "# Run the Docker container\n",
    "docker run -d -p 8000:8000 titanic-api\n",
    "```\n",
    "\n",
    "The API will be available at `http://localhost:8000`."
   ]
  },
  {
   "cell_type": "markdown",
   "id": "63424135",
   "metadata": {},
   "source": [
    "## Test the API Endpoint\n",
    "\n",
    "You can test the deployed API using `curl` or any API client. Example:\n",
    "\n",
    "```sh\n",
    "curl -X POST \"http://localhost:8000/predict\" \\\n",
    "  -H \"Content-Type: application/json\" \\\n",
    "  -d '{\"pclass\":3, \"sex\":0, \"age\":22, \"fare\":7.25, \"sibsp\":1, \"parch\":0}'\n",
    "```\n",
    "\n",
    "This will return the survival prediction and probability for the given passenger."
   ]
  }
 ],
 "metadata": {
  "language_info": {
   "name": "python"
  }
 },
 "nbformat": 4,
 "nbformat_minor": 5
}

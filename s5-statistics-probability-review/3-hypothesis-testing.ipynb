{
 "cells": [
  {
   "cell_type": "markdown",
   "id": "256bad1a",
   "metadata": {},
   "source": [
    "# Hypothesis Testing Demonstration\n",
    "\n",
    "This notebook demonstrates the process of hypothesis testing, including the null hypothesis ($H_0$), alternative hypothesis ($H_1$), p-value, and significance level ($\\alpha$). We will use a one-sample t-test as an example."
   ]
  },
  {
   "cell_type": "code",
   "execution_count": 1,
   "id": "8d9cea6c",
   "metadata": {},
   "outputs": [],
   "source": [
    "# Import required libraries\n",
    "import numpy as np\n",
    "from scipy import stats"
   ]
  },
  {
   "cell_type": "markdown",
   "id": "531ef222",
   "metadata": {},
   "source": [
    "## 1. Scenario and Hypotheses\n",
    "\n",
    "Suppose a manufacturer claims that the average lifetime of their light bulbs is 1000 hours. We want to test if the actual average lifetime is different from 1000 hours based on a sample.\n",
    "\n",
    "- **Null Hypothesis ($H_0$):** The true mean lifetime is 1000 hours ($\\mu = 1000$).\n",
    "- **Alternative Hypothesis ($H_1$):** The true mean lifetime is not 1000 hours ($\\mu \\neq 1000$)."
   ]
  },
  {
   "cell_type": "code",
   "execution_count": 2,
   "id": "4fbf5a00",
   "metadata": {},
   "outputs": [
    {
     "name": "stdout",
     "output_type": "stream",
     "text": [
      "Sample Mean: 970.59\n",
      "Sample Std Dev: 45.00\n"
     ]
    }
   ],
   "source": [
    "# Generate sample data (e.g., 30 bulbs, true mean = 980, std = 50)\n",
    "np.random.seed(42)\n",
    "sample = np.random.normal(loc=980, scale=50, size=30)\n",
    "sample_mean = np.mean(sample)\n",
    "sample_std = np.std(sample, ddof=1)\n",
    "print(f\"Sample Mean: {sample_mean:.2f}\")\n",
    "print(f\"Sample Std Dev: {sample_std:.2f}\")"
   ]
  },
  {
   "cell_type": "markdown",
   "id": "22cb2b8e",
   "metadata": {},
   "source": [
    "## 2. Significance Level and Test Selection\n",
    "\n",
    "- **Significance Level ($\\alpha$):** Commonly set at 0.05 (5%).\n",
    "- **Test:** One-sample t-test (since population std is unknown and sample size is small)."
   ]
  },
  {
   "cell_type": "code",
   "execution_count": 3,
   "id": "4732a2df",
   "metadata": {},
   "outputs": [
    {
     "name": "stdout",
     "output_type": "stream",
     "text": [
      "t-statistic: -3.579\n",
      "p-value: 0.0012\n"
     ]
    }
   ],
   "source": [
    "# Perform one-sample t-test\n",
    "t_stat, p_value = stats.ttest_1samp(sample, popmean=1000)\n",
    "print(f\"t-statistic: {t_stat:.3f}\")\n",
    "print(f\"p-value: {p_value:.4f}\")"
   ]
  },
  {
   "cell_type": "markdown",
   "id": "87983f7b",
   "metadata": {},
   "source": [
    "## 3. Decision Rule and Conclusion\n",
    "\n",
    "- If the p-value < $\\alpha$, we reject the null hypothesis.\n",
    "- If the p-value >= $\\alpha$, we fail to reject the null hypothesis.\n",
    "\n",
    "**Interpretation:** Based on the calculated p-value and the significance level, we decide whether there is enough evidence to conclude that the true mean lifetime is different from 1000 hours."
   ]
  }
 ],
 "metadata": {
  "kernelspec": {
   "display_name": "Python 3",
   "language": "python",
   "name": "python3"
  },
  "language_info": {
   "codemirror_mode": {
    "name": "ipython",
    "version": 3
   },
   "file_extension": ".py",
   "mimetype": "text/x-python",
   "name": "python",
   "nbconvert_exporter": "python",
   "pygments_lexer": "ipython3",
   "version": "3.12.2"
  }
 },
 "nbformat": 4,
 "nbformat_minor": 5
}

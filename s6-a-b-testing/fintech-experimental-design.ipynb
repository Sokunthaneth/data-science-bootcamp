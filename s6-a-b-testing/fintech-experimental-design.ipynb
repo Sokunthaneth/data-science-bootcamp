{
 "cells": [
  {
   "cell_type": "markdown",
   "id": "cade2db7",
   "metadata": {},
   "source": [
    "# Experimental Design: A/B Testing in Fintech\n",
    "This notebook demonstrates key concepts in experimental design using an A/B test scenario for a fintech (e-payment) app. We want to know if improving the onboarding flow reduces the drop-off rate."
   ]
  },
  {
   "cell_type": "markdown",
   "id": "1397ecfc",
   "metadata": {},
   "source": [
    "## Business Situation & Hypotheses\n",
    "**Situation:**\n",
    "- The product team wants to know if a new onboarding flow for an e-payment app reduces the user drop-off rate compared to the old flow.\n",
    "\n",
    "**Null Hypothesis (H₀):** The old and new onboarding screens have the same drop-off rate.\n",
    "\n",
    "**Alternative Hypothesis (H₁):** The new onboarding flow reduces the drop-off rate."
   ]
  },
  {
   "cell_type": "markdown",
   "id": "64a8ce19",
   "metadata": {},
   "source": [
    "## A/B Testing & Random Sampling\n",
    "- **A/B Testing** is a randomized experiment comparing two versions (A: old, B: new) to measure the effect of a change.\n",
    "- **Random Sampling** ensures that users are randomly assigned to either group, reducing bias and confounding variables."
   ]
  },
  {
   "cell_type": "code",
   "execution_count": 1,
   "id": "8668509c",
   "metadata": {},
   "outputs": [
    {
     "data": {
      "text/plain": [
       "group\n",
       "B    510\n",
       "A    490\n",
       "Name: count, dtype: int64"
      ]
     },
     "execution_count": 1,
     "metadata": {},
     "output_type": "execute_result"
    }
   ],
   "source": [
    "import numpy as np\n",
    "import pandas as pd\n",
    "np.random.seed(42)\n",
    "n_users = 1000\n",
    "users = pd.DataFrame({\n",
    "    'user_id': np.arange(n_users),\n",
    "    'group': np.random.choice(['A', 'B'], size=n_users)\n",
    "})\n",
    "users['group'].value_counts()\n",
    "\n",
    "# users.head()"
   ]
  },
  {
   "cell_type": "markdown",
   "id": "1ba0a859",
   "metadata": {},
   "source": [
    "## Sample Size & Statistical Power\n",
    "- **Sample Size** affects the ability to detect a true effect. Too small a sample may miss real differences.\n",
    "- **Statistical Power** is the probability of detecting an effect if it exists (commonly set at 80%).\n",
    "- Power increases with larger sample size, larger effect size, and lower variance."
   ]
  },
  {
   "cell_type": "code",
   "execution_count": 2,
   "id": "b8558140",
   "metadata": {},
   "outputs": [
    {
     "name": "stdout",
     "output_type": "stream",
     "text": [
      "Required sample size per group: 10\n"
     ]
    },
    {
     "name": "stderr",
     "output_type": "stream",
     "text": [
      "/Users/mac/.pyenv/versions/3.12.2/lib/python3.12/site-packages/statsmodels/stats/power.py:135: RuntimeWarning: invalid value encountered in sqrt\n",
      "  pow_ += stats.norm.cdf(crit - d*np.sqrt(nobs)/sigma)\n",
      "/Users/mac/.pyenv/versions/3.12.2/lib/python3.12/site-packages/statsmodels/stats/power.py:524: ConvergenceWarning: \n",
      "Failed to converge on a solution.\n",
      "\n",
      "  warnings.warn(convergence_doc, ConvergenceWarning)\n",
      "/var/folders/_0/y84_kvr94qn118s0909pkzlc0000gn/T/ipykernel_11262/3210854228.py:9: DeprecationWarning: Conversion of an array with ndim > 0 to a scalar is deprecated, and will error in future. Ensure you extract a single element from your array before performing this operation. (Deprecated NumPy 1.25.)\n",
      "  print(f\"Required sample size per group: {int(np.ceil(sample_size))}\")\n"
     ]
    }
   ],
   "source": [
    "from statsmodels.stats.power import NormalIndPower\n",
    "\n",
    "effect_size = 0.1  # expected reduction in drop-off rate (10%)\n",
    "alpha = 0.05  # significance level\n",
    "power = 0.8  # desired power\n",
    "analysis = NormalIndPower()\n",
    "sample_size = analysis.solve_power(effect_size=effect_size, alpha=alpha, power=power, alternative='smaller')\n",
    "\n",
    "print(f\"Required sample size per group: {int(np.ceil(sample_size))}\")"
   ]
  },
  {
   "cell_type": "markdown",
   "id": "973e2ec7",
   "metadata": {},
   "source": [
    "## Measurement Metrics\n",
    "- **Drop-off Rate:** Percentage of users who do not complete onboarding.\n",
    "- **Conversion Rate:** Percentage of users who complete onboarding.\n",
    "- These metrics are compared between groups A and B."
   ]
  },
  {
   "cell_type": "code",
   "execution_count": 8,
   "id": "408429a6",
   "metadata": {},
   "outputs": [
    {
     "name": "stdout",
     "output_type": "stream",
     "text": [
      "   user_id group  dropped_off\n",
      "0        0     A        False\n",
      "1        1     B        False\n",
      "2        2     A         True\n",
      "3        3     A         True\n",
      "4        4     A        False\n",
      "Drop-off rates:\n",
      "group\n",
      "A    0.293878\n",
      "B    0.221569\n",
      "Name: dropped_off, dtype: float64\n"
     ]
    }
   ],
   "source": [
    "# Simulate experiment outcomes\n",
    "p_A = 0.30  # 30% drop-off in old flow\n",
    "p_B = 0.22  # 22% drop-off in new flow (improved)\n",
    "users['dropped_off'] = users.apply(lambda row: np.random.rand() < (p_A if row['group']=='A' else p_B), axis=1)\n",
    "print(users.head())\n",
    "\n",
    "results = users.groupby('group')['dropped_off'].mean()\n",
    "print('Drop-off rates:')\n",
    "print(results)\n"
   ]
  },
  {
   "cell_type": "markdown",
   "id": "08605525",
   "metadata": {},
   "source": [
    "## P-value & Confidence Interval\n",
    "- **P-value:** Probability of observing the data (or more extreme) if the null hypothesis is true. Low p-value (< 0.05) suggests evidence against H₀.\n",
    "- **Confidence Interval (CI):** Range of values likely to contain the true effect size (e.g., 95% CI)."
   ]
  },
  {
   "cell_type": "code",
   "execution_count": 9,
   "id": "459d5b5c",
   "metadata": {},
   "outputs": [
    {
     "name": "stdout",
     "output_type": "stream",
     "text": [
      "Contingency Table:\n",
      "dropped_off  False  True \n",
      "group                    \n",
      "A              346    144\n",
      "B              397    113\n",
      "P-value: 0.004450\n",
      "95% CI for B drop-off rate: (0.186, 0.258)\n"
     ]
    }
   ],
   "source": [
    "import statsmodels.api as sm\n",
    "contingency = pd.crosstab(users['group'], users['dropped_off'])\n",
    "print('Contingency Table:')\n",
    "print(contingency)\n",
    "# Proportion test\n",
    "count = np.array([contingency.loc['A', True], contingency.loc['B', True]])\n",
    "nobs = np.array([contingency.loc['A'].sum(), contingency.loc['B'].sum()])\n",
    "stat, pval = sm.stats.proportions_ztest(count, nobs, alternative='larger')\n",
    "ci_low, ci_upp = sm.stats.proportion_confint(count[1], nobs[1], alpha=0.05, method='normal')\n",
    "print(f\"P-value: {pval:.6f}\")\n",
    "print(f\"95% CI for B drop-off rate: ({ci_low:.3f}, {ci_upp:.3f})\")"
   ]
  },
  {
   "cell_type": "markdown",
   "id": "c52e05e7",
   "metadata": {},
   "source": [
    "## Causal Inference Basics\n",
    "- **Randomization** in A/B testing helps ensure that observed differences are due to the onboarding flow, not confounding factors.\n",
    "- **Causal Effect:** The difference in drop-off rates can be interpreted as the causal effect of the new onboarding flow, assuming random assignment and no interference."
   ]
  },
  {
   "cell_type": "markdown",
   "id": "b11e5e68",
   "metadata": {},
   "source": [
    "## Type I and Type II Errors\n",
    "- **Type I Error (False Positive):** Conclude the new flow reduces drop-off when it does not (rejecting H₀ incorrectly). Probability = α (e.g., 0.05).\n",
    "- **Type II Error (False Negative):** Fail to detect a real improvement (not rejecting H₀ when H₁ is true). Probability = β (commonly, power = 1 - β)."
   ]
  },
  {
   "cell_type": "markdown",
   "id": "2043701e",
   "metadata": {},
   "source": [
    "## Summary & Recommendations\n",
    "- Use random sampling and sufficient sample size to ensure reliable results.\n",
    "- Analyze drop-off rates, p-values, and confidence intervals to make data-driven decisions.\n",
    "- Understand the risks of Type I and II errors when interpreting results.\n",
    "- A/B testing is a powerful tool for causal inference in product experiments."
   ]
  }
 ],
 "metadata": {
  "kernelspec": {
   "display_name": "Python 3",
   "language": "python",
   "name": "python3"
  },
  "language_info": {
   "codemirror_mode": {
    "name": "ipython",
    "version": 3
   },
   "file_extension": ".py",
   "mimetype": "text/x-python",
   "name": "python",
   "nbconvert_exporter": "python",
   "pygments_lexer": "ipython3",
   "version": "3.12.2"
  }
 },
 "nbformat": 4,
 "nbformat_minor": 5
}

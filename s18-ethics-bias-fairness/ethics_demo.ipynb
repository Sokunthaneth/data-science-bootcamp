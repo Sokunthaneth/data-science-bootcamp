{
 "cells": [
  {
   "cell_type": "markdown",
   "id": "e976dbd7",
   "metadata": {},
   "source": [
    "# Ethics in Data Science: Transparency, Accountability, Privacy, and Fairness\n",
    "\n",
    "This notebook uses an artificial dataset to illustrate key concepts in ethical data science: transparency, accountability, privacy, and fairness. Each section provides code and explanations to help you understand and apply these principles."
   ]
  },
  {
   "cell_type": "code",
   "execution_count": 1,
   "id": "1c9d07a0",
   "metadata": {},
   "outputs": [],
   "source": [
    "# Import Required Libraries\n",
    "import pandas as pd\n",
    "import numpy as np\n",
    "from sklearn.model_selection import train_test_split\n",
    "from sklearn.linear_model import LogisticRegression\n",
    "from sklearn.metrics import accuracy_score, confusion_matrix"
   ]
  },
  {
   "cell_type": "markdown",
   "id": "b7d1fff9",
   "metadata": {},
   "source": [
    "## 1. Create Artificial Dataset\n",
    "\n",
    "We will generate a synthetic dataset with features such as age, gender, income, and a binary target variable (e.g., loan approval). Some features may be considered sensitive."
   ]
  },
  {
   "cell_type": "code",
   "execution_count": 2,
   "id": "7363a4e8",
   "metadata": {},
   "outputs": [
    {
     "data": {
      "text/html": [
       "<div>\n",
       "<style scoped>\n",
       "    .dataframe tbody tr th:only-of-type {\n",
       "        vertical-align: middle;\n",
       "    }\n",
       "\n",
       "    .dataframe tbody tr th {\n",
       "        vertical-align: top;\n",
       "    }\n",
       "\n",
       "    .dataframe thead th {\n",
       "        text-align: right;\n",
       "    }\n",
       "</style>\n",
       "<table border=\"1\" class=\"dataframe\">\n",
       "  <thead>\n",
       "    <tr style=\"text-align: right;\">\n",
       "      <th></th>\n",
       "      <th>Age</th>\n",
       "      <th>Gender</th>\n",
       "      <th>Income</th>\n",
       "      <th>Loan_Approved</th>\n",
       "    </tr>\n",
       "  </thead>\n",
       "  <tbody>\n",
       "    <tr>\n",
       "      <th>0</th>\n",
       "      <td>56</td>\n",
       "      <td>Female</td>\n",
       "      <td>24449</td>\n",
       "      <td>0</td>\n",
       "    </tr>\n",
       "    <tr>\n",
       "      <th>1</th>\n",
       "      <td>69</td>\n",
       "      <td>Male</td>\n",
       "      <td>49166</td>\n",
       "      <td>1</td>\n",
       "    </tr>\n",
       "    <tr>\n",
       "      <th>2</th>\n",
       "      <td>46</td>\n",
       "      <td>Male</td>\n",
       "      <td>55760</td>\n",
       "      <td>1</td>\n",
       "    </tr>\n",
       "    <tr>\n",
       "      <th>3</th>\n",
       "      <td>32</td>\n",
       "      <td>Female</td>\n",
       "      <td>49509</td>\n",
       "      <td>0</td>\n",
       "    </tr>\n",
       "    <tr>\n",
       "      <th>4</th>\n",
       "      <td>60</td>\n",
       "      <td>Male</td>\n",
       "      <td>18988</td>\n",
       "      <td>0</td>\n",
       "    </tr>\n",
       "  </tbody>\n",
       "</table>\n",
       "</div>"
      ],
      "text/plain": [
       "   Age  Gender  Income  Loan_Approved\n",
       "0   56  Female   24449              0\n",
       "1   69    Male   49166              1\n",
       "2   46    Male   55760              1\n",
       "3   32  Female   49509              0\n",
       "4   60    Male   18988              0"
      ]
     },
     "execution_count": 2,
     "metadata": {},
     "output_type": "execute_result"
    }
   ],
   "source": [
    "# Generate artificial dataset\n",
    "np.random.seed(42)\n",
    "n_samples = 500\n",
    "age = np.random.randint(18, 70, n_samples)\n",
    "gender = np.random.choice(['Male', 'Female'], n_samples)\n",
    "income = np.random.normal(50000, 15000, n_samples).astype(int)\n",
    "# Simulate loan approval (target) with some bias\n",
    "loan_approved = ((income > 40000) & (age > 25) & (gender == 'Male')).astype(int)\n",
    "data = pd.DataFrame({\n",
    "    'Age': age,\n",
    "    'Gender': gender,\n",
    "    'Income': income,\n",
    "    'Loan_Approved': loan_approved\n",
    "})\n",
    "data.head()"
   ]
  },
  {
   "cell_type": "markdown",
   "id": "3e8463ba",
   "metadata": {},
   "source": [
    "## 2. Explore Dataset for Transparency\n",
    "\n",
    "Transparency means documenting and sharing information about the data, including feature descriptions and data provenance."
   ]
  },
  {
   "cell_type": "code",
   "execution_count": 3,
   "id": "6f13ec74",
   "metadata": {},
   "outputs": [
    {
     "name": "stdout",
     "output_type": "stream",
     "text": [
      "Feature Descriptions:\n",
      "Age: Age of applicant (18-70)\n",
      "Gender: Male or Female\n",
      "Income: Annual income in USD\n",
      "Loan_Approved: 1 if loan approved, 0 otherwise\n",
      "\n",
      "Data Provenance: Artificially generated for educational purposes.\n",
      "<class 'pandas.core.frame.DataFrame'>\n",
      "RangeIndex: 500 entries, 0 to 499\n",
      "Data columns (total 4 columns):\n",
      " #   Column         Non-Null Count  Dtype \n",
      "---  ------         --------------  ----- \n",
      " 0   Age            500 non-null    int64 \n",
      " 1   Gender         500 non-null    object\n",
      " 2   Income         500 non-null    int64 \n",
      " 3   Loan_Approved  500 non-null    int64 \n",
      "dtypes: int64(3), object(1)\n",
      "memory usage: 15.8+ KB\n"
     ]
    },
    {
     "data": {
      "text/html": [
       "<div>\n",
       "<style scoped>\n",
       "    .dataframe tbody tr th:only-of-type {\n",
       "        vertical-align: middle;\n",
       "    }\n",
       "\n",
       "    .dataframe tbody tr th {\n",
       "        vertical-align: top;\n",
       "    }\n",
       "\n",
       "    .dataframe thead th {\n",
       "        text-align: right;\n",
       "    }\n",
       "</style>\n",
       "<table border=\"1\" class=\"dataframe\">\n",
       "  <thead>\n",
       "    <tr style=\"text-align: right;\">\n",
       "      <th></th>\n",
       "      <th>Age</th>\n",
       "      <th>Income</th>\n",
       "      <th>Loan_Approved</th>\n",
       "    </tr>\n",
       "  </thead>\n",
       "  <tbody>\n",
       "    <tr>\n",
       "      <th>count</th>\n",
       "      <td>500.000000</td>\n",
       "      <td>500.000000</td>\n",
       "      <td>500.000000</td>\n",
       "    </tr>\n",
       "    <tr>\n",
       "      <th>mean</th>\n",
       "      <td>44.220000</td>\n",
       "      <td>50226.678000</td>\n",
       "      <td>0.326000</td>\n",
       "    </tr>\n",
       "    <tr>\n",
       "      <th>std</th>\n",
       "      <td>15.036082</td>\n",
       "      <td>14828.885765</td>\n",
       "      <td>0.469217</td>\n",
       "    </tr>\n",
       "    <tr>\n",
       "      <th>min</th>\n",
       "      <td>18.000000</td>\n",
       "      <td>9546.000000</td>\n",
       "      <td>0.000000</td>\n",
       "    </tr>\n",
       "    <tr>\n",
       "      <th>25%</th>\n",
       "      <td>32.000000</td>\n",
       "      <td>40619.000000</td>\n",
       "      <td>0.000000</td>\n",
       "    </tr>\n",
       "    <tr>\n",
       "      <th>50%</th>\n",
       "      <td>45.000000</td>\n",
       "      <td>49816.500000</td>\n",
       "      <td>0.000000</td>\n",
       "    </tr>\n",
       "    <tr>\n",
       "      <th>75%</th>\n",
       "      <td>57.000000</td>\n",
       "      <td>59604.000000</td>\n",
       "      <td>1.000000</td>\n",
       "    </tr>\n",
       "    <tr>\n",
       "      <th>max</th>\n",
       "      <td>69.000000</td>\n",
       "      <td>96183.000000</td>\n",
       "      <td>1.000000</td>\n",
       "    </tr>\n",
       "  </tbody>\n",
       "</table>\n",
       "</div>"
      ],
      "text/plain": [
       "              Age        Income  Loan_Approved\n",
       "count  500.000000    500.000000     500.000000\n",
       "mean    44.220000  50226.678000       0.326000\n",
       "std     15.036082  14828.885765       0.469217\n",
       "min     18.000000   9546.000000       0.000000\n",
       "25%     32.000000  40619.000000       0.000000\n",
       "50%     45.000000  49816.500000       0.000000\n",
       "75%     57.000000  59604.000000       1.000000\n",
       "max     69.000000  96183.000000       1.000000"
      ]
     },
     "execution_count": 3,
     "metadata": {},
     "output_type": "execute_result"
    }
   ],
   "source": [
    "# Inspect dataset for transparency\n",
    "print('Feature Descriptions:')\n",
    "print('Age: Age of applicant (18-70)')\n",
    "print('Gender: Male or Female')\n",
    "print('Income: Annual income in USD')\n",
    "print('Loan_Approved: 1 if loan approved, 0 otherwise')\n",
    "print('\\nData Provenance: Artificially generated for educational purposes.')\n",
    "data.info()\n",
    "data.describe()"
   ]
  },
  {
   "cell_type": "markdown",
   "id": "296a7789",
   "metadata": {},
   "source": [
    "## 3. Demonstrate Accountability with Data Logging\n",
    "\n",
    "Accountability involves keeping records of data processing steps and model decisions. This helps trace actions and ensure responsible use."
   ]
  },
  {
   "cell_type": "code",
   "execution_count": 4,
   "id": "7445c908",
   "metadata": {},
   "outputs": [
    {
     "name": "stderr",
     "output_type": "stream",
     "text": [
      "INFO:root:Splitting data into train and test sets\n",
      "INFO:root:Training logistic regression model\n",
      "INFO:root:Model training complete\n"
     ]
    }
   ],
   "source": [
    "# Simple logging for accountability\n",
    "import logging\n",
    "logging.basicConfig(level=logging.INFO)\n",
    "logging.info('Splitting data into train and test sets')\n",
    "X = data[['Age', 'Gender', 'Income']]\n",
    "# Encode gender\n",
    "X = pd.get_dummies(X, drop_first=True)\n",
    "y = data['Loan_Approved']\n",
    "X_train, X_test, y_train, y_test = train_test_split(X, y, test_size=0.3, random_state=42)\n",
    "logging.info('Training logistic regression model')\n",
    "model = LogisticRegression()\n",
    "model.fit(X_train, y_train)\n",
    "logging.info('Model training complete')"
   ]
  },
  {
   "cell_type": "markdown",
   "id": "dfafafc1",
   "metadata": {},
   "source": [
    "## 4. Illustrate Privacy by Data Anonymization\n",
    "\n",
    "Privacy is protected by removing or masking personally identifiable information (PII) from the dataset."
   ]
  },
  {
   "cell_type": "code",
   "execution_count": 5,
   "id": "d1ad3bc6",
   "metadata": {},
   "outputs": [
    {
     "name": "stdout",
     "output_type": "stream",
     "text": [
      "Before anonymization:\n",
      "       Name  Age  Gender  Income\n",
      "0  Person_0   56  Female   24449\n",
      "1  Person_1   69    Male   49166\n",
      "2  Person_2   46    Male   55760\n",
      "3  Person_3   32  Female   49509\n",
      "4  Person_4   60    Male   18988\n",
      "\n",
      "After anonymization:\n",
      "   Age  Gender  Income  Loan_Approved\n",
      "0   56  Female   24449              0\n",
      "1   69    Male   49166              1\n",
      "2   46    Male   55760              1\n",
      "3   32  Female   49509              0\n",
      "4   60    Male   18988              0\n"
     ]
    }
   ],
   "source": [
    "# Demonstrate anonymization (if dataset had PII)\n",
    "# For illustration, add a fake 'Name' column and anonymize it\n",
    "names = [f'Person_{i}' for i in range(n_samples)]\n",
    "data['Name'] = names\n",
    "print('Before anonymization:')\n",
    "print(data[['Name', 'Age', 'Gender', 'Income']].head())\n",
    "# Remove or mask PII\n",
    "anonymized_data = data.drop(columns=['Name'])\n",
    "print('\\nAfter anonymization:')\n",
    "print(anonymized_data.head())"
   ]
  },
  {
   "cell_type": "markdown",
   "id": "78759351",
   "metadata": {},
   "source": [
    "## 5. Analyze Fairness in Model Predictions\n",
    "\n",
    "Fairness means ensuring that model predictions do not unfairly disadvantage any group. We will evaluate fairness metrics such as demographic parity and equal opportunity."
   ]
  },
  {
   "cell_type": "code",
   "execution_count": 6,
   "id": "eeed3236",
   "metadata": {},
   "outputs": [
    {
     "name": "stdout",
     "output_type": "stream",
     "text": [
      "Demographic parity (Predicted=1 rate) for Female: 0.00\n",
      "Demographic parity (Predicted=1 rate) for Male: 0.64\n",
      "No actual positives for Female.\n",
      "Equal opportunity (TPR) for Male: 0.85\n"
     ]
    }
   ],
   "source": [
    "# Predict and evaluate fairness\n",
    "preds = model.predict(X_test)\n",
    "results = X_test.copy()\n",
    "results['Actual'] = y_test.values\n",
    "results['Predicted'] = preds\n",
    "results['Gender'] = data.loc[X_test.index, 'Gender'].values\n",
    "\n",
    "# Demographic parity: compare positive prediction rates by gender\n",
    "groups = results.groupby('Gender')\n",
    "for gender, group in groups:\n",
    "    rate = (group['Predicted'] == 1).mean()\n",
    "    print(f'Demographic parity (Predicted=1 rate) for {gender}: {rate:.2f}')\n",
    "\n",
    "# Equal opportunity: compare true positive rates by gender\n",
    "for gender, group in groups:\n",
    "    true_positives = ((group['Actual'] == 1) & (group['Predicted'] == 1)).sum()\n",
    "    actual_positives = (group['Actual'] == 1).sum()\n",
    "    if actual_positives > 0:\n",
    "        tpr = true_positives / actual_positives\n",
    "        print(f'Equal opportunity (TPR) for {gender}: {tpr:.2f}')\n",
    "    else:\n",
    "        print(f'No actual positives for {gender}.')"
   ]
  }
 ],
 "metadata": {
  "kernelspec": {
   "display_name": "3.12.2",
   "language": "python",
   "name": "python3"
  },
  "language_info": {
   "codemirror_mode": {
    "name": "ipython",
    "version": 3
   },
   "file_extension": ".py",
   "mimetype": "text/x-python",
   "name": "python",
   "nbconvert_exporter": "python",
   "pygments_lexer": "ipython3",
   "version": "3.12.2"
  }
 },
 "nbformat": 4,
 "nbformat_minor": 5
}

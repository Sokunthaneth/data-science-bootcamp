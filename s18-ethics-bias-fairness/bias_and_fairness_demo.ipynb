{
 "cells": [
  {
   "cell_type": "markdown",
   "id": "edae0ca1",
   "metadata": {},
   "source": [
    "# Demonstrating Bias and Fairness Intervention in Data Science\n",
    "\n",
    "This notebook illustrates how bias can arise in a data science project and how an intervention (reweighting) can help create more fairness in model predictions."
   ]
  },
  {
   "cell_type": "markdown",
   "id": "f8612b7c",
   "metadata": {},
   "source": [
    "# Bias and Fairness in Data Science Projects\n",
    "\n",
    "This notebook demonstrates how bias can arise in data science projects and presents best practices to ensure algorithmic fairness. We use an artificial dataset to illustrate these concepts."
   ]
  },
  {
   "cell_type": "code",
   "execution_count": 35,
   "id": "9b72156d",
   "metadata": {},
   "outputs": [],
   "source": [
    "# Import Required Libraries\n",
    "import pandas as pd\n",
    "import numpy as np\n",
    "from sklearn.model_selection import train_test_split\n",
    "from sklearn.linear_model import LogisticRegression\n",
    "from sklearn.metrics import accuracy_score"
   ]
  },
  {
   "cell_type": "markdown",
   "id": "cbdd22ae",
   "metadata": {},
   "source": [
    "## 1. Artificial Dataset with Strong Bias\n",
    "\n",
    "In this dataset, males have a much higher chance of loan approval than females. This will be reflected in the model's predictions before any fairness intervention."
   ]
  },
  {
   "cell_type": "code",
   "execution_count": 36,
   "id": "3a692d37",
   "metadata": {},
   "outputs": [
    {
     "data": {
      "text/html": [
       "<div>\n",
       "<style scoped>\n",
       "    .dataframe tbody tr th:only-of-type {\n",
       "        vertical-align: middle;\n",
       "    }\n",
       "\n",
       "    .dataframe tbody tr th {\n",
       "        vertical-align: top;\n",
       "    }\n",
       "\n",
       "    .dataframe thead th {\n",
       "        text-align: right;\n",
       "    }\n",
       "</style>\n",
       "<table border=\"1\" class=\"dataframe\">\n",
       "  <thead>\n",
       "    <tr style=\"text-align: right;\">\n",
       "      <th></th>\n",
       "      <th>Age</th>\n",
       "      <th>Gender</th>\n",
       "      <th>Income</th>\n",
       "      <th>Loan_Approved</th>\n",
       "    </tr>\n",
       "  </thead>\n",
       "  <tbody>\n",
       "    <tr>\n",
       "      <th>0</th>\n",
       "      <td>64</td>\n",
       "      <td>Male</td>\n",
       "      <td>38868</td>\n",
       "      <td>0</td>\n",
       "    </tr>\n",
       "    <tr>\n",
       "      <th>1</th>\n",
       "      <td>20</td>\n",
       "      <td>Male</td>\n",
       "      <td>46974</td>\n",
       "      <td>0</td>\n",
       "    </tr>\n",
       "    <tr>\n",
       "      <th>2</th>\n",
       "      <td>23</td>\n",
       "      <td>Female</td>\n",
       "      <td>38520</td>\n",
       "      <td>0</td>\n",
       "    </tr>\n",
       "    <tr>\n",
       "      <th>3</th>\n",
       "      <td>23</td>\n",
       "      <td>Male</td>\n",
       "      <td>42349</td>\n",
       "      <td>0</td>\n",
       "    </tr>\n",
       "    <tr>\n",
       "      <th>4</th>\n",
       "      <td>59</td>\n",
       "      <td>Female</td>\n",
       "      <td>35603</td>\n",
       "      <td>0</td>\n",
       "    </tr>\n",
       "  </tbody>\n",
       "</table>\n",
       "</div>"
      ],
      "text/plain": [
       "   Age  Gender  Income  Loan_Approved\n",
       "0   64    Male   38868              0\n",
       "1   20    Male   46974              0\n",
       "2   23  Female   38520              0\n",
       "3   23    Male   42349              0\n",
       "4   59  Female   35603              0"
      ]
     },
     "execution_count": 36,
     "metadata": {},
     "output_type": "execute_result"
    }
   ],
   "source": [
    "# Generate strongly biased artificial dataset\n",
    "np.random.seed(0)\n",
    "n_samples = 400\n",
    "age = np.random.randint(20, 65, n_samples)\n",
    "gender = np.random.choice(['Male', 'Female'], n_samples)\n",
    "income = np.random.normal(48000, 12000, n_samples).astype(int)\n",
    "# Strong bias: males have much higher approval rate than females\n",
    "loan_approved = (\n",
    "    ((income > 40000) & (age > 30) & (gender == 'Male')) |\n",
    "    ((income > 60000) & (age > 40) & (gender == 'Female'))\n",
    ").astype(int)\n",
    "data = pd.DataFrame({\n",
    "    'Age': age,\n",
    "    'Gender': gender,\n",
    "    'Income': income,\n",
    "    'Loan_Approved': loan_approved\n",
    "})\n",
    "data.head()"
   ]
  },
  {
   "cell_type": "markdown",
   "id": "453f46ae",
   "metadata": {},
   "source": [
    "## 2. Detecting Bias in Model Predictions\n",
    "\n",
    "Train a model and compare approval rates for males and females. You should see a significant disparity before any intervention."
   ]
  },
  {
   "cell_type": "code",
   "execution_count": 37,
   "id": "1633cccc",
   "metadata": {},
   "outputs": [
    {
     "name": "stdout",
     "output_type": "stream",
     "text": [
      "Predicted approval rate for Female: 0.02\n",
      "Predicted approval rate for Male: 0.46\n"
     ]
    },
    {
     "name": "stderr",
     "output_type": "stream",
     "text": [
      "/Users/mac/.pyenv/versions/3.12.2/lib/python3.12/site-packages/sklearn/linear_model/_logistic.py:470: ConvergenceWarning: lbfgs failed to converge after 100 iteration(s) (status=1):\n",
      "STOP: TOTAL NO. of ITERATIONS REACHED LIMIT\n",
      "\n",
      "Increase the number of iterations to improve the convergence (max_iter=100).\n",
      "You might also want to scale the data as shown in:\n",
      "    https://scikit-learn.org/stable/modules/preprocessing.html\n",
      "Please also refer to the documentation for alternative solver options:\n",
      "    https://scikit-learn.org/stable/modules/linear_model.html#logistic-regression\n",
      "  n_iter_i = _check_optimize_result(\n"
     ]
    }
   ],
   "source": [
    "# Train model and compare prediction rates by gender\n",
    "X = data[['Age', 'Gender', 'Income']]\n",
    "X = pd.get_dummies(X, drop_first=True)\n",
    "y = data['Loan_Approved']\n",
    "X_train, X_test, y_train, y_test = train_test_split(X, y, test_size=0.3, random_state=0)\n",
    "model = LogisticRegression()\n",
    "model.fit(X_train, y_train)\n",
    "preds = model.predict(X_test)\n",
    "results = X_test.copy()\n",
    "results['Actual'] = y_test.values\n",
    "results['Predicted'] = preds\n",
    "results['Gender'] = data.loc[X_test.index, 'Gender'].values\n",
    "\n",
    "# Compare positive prediction rates by gender\n",
    "groups = results.groupby('Gender')\n",
    "for gender, group in groups:\n",
    "    rate = (group['Predicted'] == 1).mean()\n",
    "    print(f'Predicted approval rate for {gender}: {rate:.2f}')"
   ]
  },
  {
   "cell_type": "markdown",
   "id": "2a4b3481",
   "metadata": {},
   "source": [
    "## 3. Fairness Intervention: Reweighting\n",
    "\n",
    "We apply a reweighting technique to reduce the disparity in approval rates and make the model predictions more fair. Compare the approval rates before and after intervention."
   ]
  },
  {
   "cell_type": "code",
   "execution_count": 38,
   "id": "0b9e5d8e",
   "metadata": {},
   "outputs": [
    {
     "name": "stdout",
     "output_type": "stream",
     "text": [
      "Balanced model approval rate for Female: 0.11\n",
      "Balanced model approval rate for Male: 0.67\n"
     ]
    },
    {
     "name": "stderr",
     "output_type": "stream",
     "text": [
      "/Users/mac/.pyenv/versions/3.12.2/lib/python3.12/site-packages/sklearn/linear_model/_logistic.py:470: ConvergenceWarning: lbfgs failed to converge after 100 iteration(s) (status=1):\n",
      "STOP: TOTAL NO. of ITERATIONS REACHED LIMIT\n",
      "\n",
      "Increase the number of iterations to improve the convergence (max_iter=100).\n",
      "You might also want to scale the data as shown in:\n",
      "    https://scikit-learn.org/stable/modules/preprocessing.html\n",
      "Please also refer to the documentation for alternative solver options:\n",
      "    https://scikit-learn.org/stable/modules/linear_model.html#logistic-regression\n",
      "  n_iter_i = _check_optimize_result(\n"
     ]
    }
   ],
   "source": [
    "# Fairness metric: demographic parity\n",
    "# Mitigation: simple reweighting example\n",
    "from sklearn.utils import compute_sample_weight\n",
    "sample_weights = compute_sample_weight(class_weight='balanced', y=y_train)\n",
    "model_balanced = LogisticRegression()\n",
    "model_balanced.fit(X_train, y_train, sample_weight=sample_weights)\n",
    "preds_balanced = model_balanced.predict(X_test)\n",
    "results['Predicted_Balanced'] = preds_balanced\n",
    "for gender, group in results.groupby('Gender'):\n",
    "    rate = (group['Predicted_Balanced'] == 1).mean()\n",
    "    print(f'Balanced model approval rate for {gender}: {rate:.2f}')"
   ]
  }
 ],
 "metadata": {
  "kernelspec": {
   "display_name": "3.12.2",
   "language": "python",
   "name": "python3"
  },
  "language_info": {
   "codemirror_mode": {
    "name": "ipython",
    "version": 3
   },
   "file_extension": ".py",
   "mimetype": "text/x-python",
   "name": "python",
   "nbconvert_exporter": "python",
   "pygments_lexer": "ipython3",
   "version": "3.12.2"
  }
 },
 "nbformat": 4,
 "nbformat_minor": 5
}

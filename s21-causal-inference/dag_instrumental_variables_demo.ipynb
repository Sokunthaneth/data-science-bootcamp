{
 "cells": [
  {
   "cell_type": "markdown",
   "id": "4b78474e",
   "metadata": {},
   "source": [
    "# Demonstrating DAGs with Instrumental Variables\n",
    "\n",
    "This notebook covers:\n",
    "- Creating a DAG with an instrumental variable\n",
    "- Simulating data\n",
    "- Estimating causal effect using instrumental variables\n",
    "- Visualizing the DAG"
   ]
  },
  {
   "cell_type": "code",
   "execution_count": 1,
   "id": "f8c18d27",
   "metadata": {},
   "outputs": [
    {
     "name": "stdout",
     "output_type": "stream",
     "text": [
      "Requirement already satisfied: numpy in /Users/mac/.pyenv/versions/3.12.2/lib/python3.12/site-packages (1.26.4)\n",
      "Requirement already satisfied: pandas in /Users/mac/.pyenv/versions/3.12.2/lib/python3.12/site-packages (2.2.3)\n",
      "Requirement already satisfied: matplotlib in /Users/mac/.pyenv/versions/3.12.2/lib/python3.12/site-packages (3.10.3)\n",
      "Requirement already satisfied: networkx in /Users/mac/.pyenv/versions/3.12.2/lib/python3.12/site-packages (3.4.2)\n",
      "Requirement already satisfied: statsmodels in /Users/mac/.pyenv/versions/3.12.2/lib/python3.12/site-packages (0.14.4)\n",
      "Requirement already satisfied: python-dateutil>=2.8.2 in /Users/mac/.pyenv/versions/3.12.2/lib/python3.12/site-packages (from pandas) (2.9.0.post0)\n",
      "Requirement already satisfied: pytz>=2020.1 in /Users/mac/.pyenv/versions/3.12.2/lib/python3.12/site-packages (from pandas) (2025.1)\n",
      "Requirement already satisfied: tzdata>=2022.7 in /Users/mac/.pyenv/versions/3.12.2/lib/python3.12/site-packages (from pandas) (2025.1)\n",
      "Requirement already satisfied: contourpy>=1.0.1 in /Users/mac/.pyenv/versions/3.12.2/lib/python3.12/site-packages (from matplotlib) (1.3.2)\n",
      "Requirement already satisfied: cycler>=0.10 in /Users/mac/.pyenv/versions/3.12.2/lib/python3.12/site-packages (from matplotlib) (0.12.1)\n",
      "Requirement already satisfied: fonttools>=4.22.0 in /Users/mac/.pyenv/versions/3.12.2/lib/python3.12/site-packages (from matplotlib) (4.58.0)\n",
      "Requirement already satisfied: kiwisolver>=1.3.1 in /Users/mac/.pyenv/versions/3.12.2/lib/python3.12/site-packages (from matplotlib) (1.4.8)\n",
      "Requirement already satisfied: packaging>=20.0 in /Users/mac/.pyenv/versions/3.12.2/lib/python3.12/site-packages (from matplotlib) (24.1)\n",
      "Requirement already satisfied: pillow>=8 in /Users/mac/.pyenv/versions/3.12.2/lib/python3.12/site-packages (from matplotlib) (11.0.0)\n",
      "Requirement already satisfied: pyparsing>=2.3.1 in /Users/mac/.pyenv/versions/3.12.2/lib/python3.12/site-packages (from matplotlib) (3.2.3)\n",
      "Requirement already satisfied: scipy!=1.9.2,>=1.8 in /Users/mac/.pyenv/versions/3.12.2/lib/python3.12/site-packages (from statsmodels) (1.14.1)\n",
      "Requirement already satisfied: patsy>=0.5.6 in /Users/mac/.pyenv/versions/3.12.2/lib/python3.12/site-packages (from statsmodels) (1.0.1)\n",
      "Requirement already satisfied: six>=1.5 in /Users/mac/.pyenv/versions/3.12.2/lib/python3.12/site-packages (from python-dateutil>=2.8.2->pandas) (1.16.0)\n"
     ]
    }
   ],
   "source": [
    "# Install required libraries (uncomment if running in a new environment)\n",
    "!pip install numpy pandas matplotlib networkx statsmodels"
   ]
  },
  {
   "cell_type": "code",
   "execution_count": 2,
   "id": "18f32e44",
   "metadata": {},
   "outputs": [],
   "source": [
    "# Import required libraries\n",
    "import numpy as np\n",
    "import pandas as pd\n",
    "import matplotlib.pyplot as plt\n",
    "import networkx as nx\n",
    "import statsmodels.api as sm"
   ]
  },
  {
   "cell_type": "markdown",
   "id": "042af74b",
   "metadata": {},
   "source": [
    "## Create a DAG with an Instrumental Variable\n",
    "\n",
    "We'll define a DAG where Z is an instrumental variable for the effect of X on Y."
   ]
  },
  {
   "cell_type": "code",
   "execution_count": 3,
   "id": "97601fa9",
   "metadata": {},
   "outputs": [
    {
     "data": {
      "image/png": "[encoded data removed]",
      "text/plain": [
       "<Figure size 500x400 with 1 Axes>"
      ]
     },
     "metadata": {},
     "output_type": "display_data"
    }
   ],
   "source": [
    "# Create and plot the DAG\n",
    "G = nx.DiGraph()\n",
    "G.add_edges_from([\n",
    "    ('Z', 'X'),  # Instrumental variable\n",
    "    ('X', 'Y'),  # Treatment effect\n",
    "    ('U', 'X'),  # Unobserved confounder\n",
    "    ('U', 'Y')   # Unobserved confounder\n",
    "])\n",
    "plt.figure(figsize=(5,4))\n",
    "pos = nx.spring_layout(G)\n",
    "nx.draw(G, pos, with_labels=True, node_color='lightgreen', node_size=2000, arrowsize=20)\n",
    "plt.title('DAG with Instrumental Variable')\n",
    "plt.show()"
   ]
  },
  {
   "cell_type": "markdown",
   "id": "33363580",
   "metadata": {},
   "source": [
    "## Simulate Data for Instrumental Variable Analysis\n",
    "\n",
    "We'll simulate data where Z affects X, X affects Y, and U is an unobserved confounder."
   ]
  },
  {
   "cell_type": "code",
   "execution_count": 4,
   "id": "27ee99d3",
   "metadata": {},
   "outputs": [
    {
     "data": {
      "text/html": [
       "<div>\n",
       "<style scoped>\n",
       "    .dataframe tbody tr th:only-of-type {\n",
       "        vertical-align: middle;\n",
       "    }\n",
       "\n",
       "    .dataframe tbody tr th {\n",
       "        vertical-align: top;\n",
       "    }\n",
       "\n",
       "    .dataframe thead th {\n",
       "        text-align: right;\n",
       "    }\n",
       "</style>\n",
       "<table border=\"1\" class=\"dataframe\">\n",
       "  <thead>\n",
       "    <tr style=\"text-align: right;\">\n",
       "      <th></th>\n",
       "      <th>Z</th>\n",
       "      <th>X</th>\n",
       "      <th>Y</th>\n",
       "    </tr>\n",
       "  </thead>\n",
       "  <tbody>\n",
       "    <tr>\n",
       "      <th>0</th>\n",
       "      <td>1</td>\n",
       "      <td>0.781239</td>\n",
       "      <td>-0.012268</td>\n",
       "    </tr>\n",
       "    <tr>\n",
       "      <th>1</th>\n",
       "      <td>1</td>\n",
       "      <td>0.777582</td>\n",
       "      <td>-0.149128</td>\n",
       "    </tr>\n",
       "    <tr>\n",
       "      <th>2</th>\n",
       "      <td>0</td>\n",
       "      <td>1.530353</td>\n",
       "      <td>3.554989</td>\n",
       "    </tr>\n",
       "    <tr>\n",
       "      <th>3</th>\n",
       "      <td>1</td>\n",
       "      <td>0.644579</td>\n",
       "      <td>1.335025</td>\n",
       "    </tr>\n",
       "    <tr>\n",
       "      <th>4</th>\n",
       "      <td>1</td>\n",
       "      <td>0.951597</td>\n",
       "      <td>-0.092318</td>\n",
       "    </tr>\n",
       "  </tbody>\n",
       "</table>\n",
       "</div>"
      ],
      "text/plain": [
       "   Z         X         Y\n",
       "0  1  0.781239 -0.012268\n",
       "1  1  0.777582 -0.149128\n",
       "2  0  1.530353  3.554989\n",
       "3  1  0.644579  1.335025\n",
       "4  1  0.951597 -0.092318"
      ]
     },
     "execution_count": 4,
     "metadata": {},
     "output_type": "execute_result"
    }
   ],
   "source": [
    "# Simulate data\n",
    "np.random.seed(42)\n",
    "n = 500\n",
    "U = np.random.normal(0, 1, n)  # Unobserved confounder\n",
    "Z = np.random.binomial(1, 0.5, n)  # Instrument\n",
    "X = 0.7*Z + 0.5*U + np.random.normal(0, 1, n)  # Treatment\n",
    "Y = 1.2*X + 0.8*U + np.random.normal(0, 1, n)  # Outcome\n",
    "\n",
    "data = pd.DataFrame({'Z': Z, 'X': X, 'Y': Y})\n",
    "data.head()"
   ]
  },
  {
   "cell_type": "markdown",
   "id": "9fb48715",
   "metadata": {},
   "source": [
    "## Estimate Causal Effect Using Instrumental Variables\n",
    "\n",
    "We'll use two-stage least squares (2SLS) to estimate the effect of X on Y using Z as an instrument."
   ]
  },
  {
   "cell_type": "code",
   "execution_count": 5,
   "id": "25ab1e4c",
   "metadata": {},
   "outputs": [
    {
     "name": "stdout",
     "output_type": "stream",
     "text": [
      "First stage: X ~ Z\n",
      "                            OLS Regression Results                            \n",
      "==============================================================================\n",
      "Dep. Variable:                      X   R-squared:                       0.088\n",
      "Model:                            OLS   Adj. R-squared:                  0.086\n",
      "Method:                 Least Squares   F-statistic:                     47.87\n",
      "Date:                Wed, 23 Jul 2025   Prob (F-statistic):           1.40e-11\n",
      "Time:                        13:50:09   Log-Likelihood:                -763.06\n",
      "No. Observations:                 500   AIC:                             1530.\n",
      "Df Residuals:                     498   BIC:                             1539.\n",
      "Df Model:                           1                                         \n",
      "Covariance Type:            nonrobust                                         \n",
      "==============================================================================\n",
      "                 coef    std err          t      P>|t|      [0.025      0.975]\n",
      "------------------------------------------------------------------------------\n",
      "const          0.0738      0.071      1.042      0.298      -0.065       0.213\n",
      "Z              0.6903      0.100      6.919      0.000       0.494       0.886\n",
      "==============================================================================\n",
      "Omnibus:                        1.749   Durbin-Watson:                   2.067\n",
      "Prob(Omnibus):                  0.417   Jarque-Bera (JB):                1.544\n",
      "Skew:                          -0.094   Prob(JB):                        0.462\n",
      "Kurtosis:                       3.197   Cond. No.                         2.63\n",
      "==============================================================================\n",
      "\n",
      "Notes:\n",
      "[1] Standard Errors assume that the covariance matrix of the errors is correctly specified.\n",
      "\n",
      "Second stage: Y ~ X_hat\n",
      "                            OLS Regression Results                            \n",
      "==============================================================================\n",
      "Dep. Variable:                      Y   R-squared:                       0.037\n",
      "Model:                            OLS   Adj. R-squared:                  0.035\n",
      "Method:                 Least Squares   F-statistic:                     19.05\n",
      "Date:                Wed, 23 Jul 2025   Prob (F-statistic):           1.55e-05\n",
      "Time:                        13:50:09   Log-Likelihood:                -1063.6\n",
      "No. Observations:                 500   AIC:                             2131.\n",
      "Df Residuals:                     498   BIC:                             2140.\n",
      "Df Model:                           1                                         \n",
      "Covariance Type:            nonrobust                                         \n",
      "==============================================================================\n",
      "                 coef    std err          t      P>|t|      [0.025      0.975]\n",
      "------------------------------------------------------------------------------\n",
      "const          0.0882      0.144      0.614      0.539      -0.194       0.370\n",
      "X_hat          1.1508      0.264      4.365      0.000       0.633       1.669\n",
      "==============================================================================\n",
      "Omnibus:                        1.211   Durbin-Watson:                   2.023\n",
      "Prob(Omnibus):                  0.546   Jarque-Bera (JB):                1.010\n",
      "Skew:                           0.065   Prob(JB):                        0.603\n",
      "Kurtosis:                       3.178   Cond. No.                         3.47\n",
      "==============================================================================\n",
      "\n",
      "Notes:\n",
      "[1] Standard Errors assume that the covariance matrix of the errors is correctly specified.\n",
      "\n",
      "IV2SLS estimation:\n",
      "                          IV2SLS Regression Results                           \n",
      "==============================================================================\n",
      "Dep. Variable:                      Y   R-squared:                       0.345\n",
      "Model:                         IV2SLS   Adj. R-squared:                  0.344\n",
      "Method:                     Two Stage   F-statistic:                 8.769e-15\n",
      "                        Least Squares   Prob (F-statistic):               1.00\n",
      "Date:                Wed, 23 Jul 2025                                         \n",
      "Time:                        13:50:09                                         \n",
      "No. Observations:                 500                                         \n",
      "Df Residuals:                     498                                         \n",
      "Df Model:                           1                                         \n",
      "==============================================================================\n",
      "                 coef    std err          t      P>|t|      [0.025      0.975]\n",
      "------------------------------------------------------------------------------\n",
      "const          0.6140   3.62e+06   1.69e-07      1.000   -7.12e+06    7.12e+06\n",
      "X              0.4626   4.94e+06   9.36e-08      1.000   -9.71e+06    9.71e+06\n",
      "==============================================================================\n",
      "Omnibus:                        2.016   Durbin-Watson:                   1.958\n",
      "Prob(Omnibus):                  0.365   Jarque-Bera (JB):                1.806\n",
      "Skew:                           0.131   Prob(JB):                        0.405\n",
      "Kurtosis:                       3.133   Cond. No.                         1.52\n",
      "==============================================================================\n"
     ]
    }
   ],
   "source": [
    "# Two-stage least squares (2SLS) estimation\n",
    "from statsmodels.sandbox.regression.gmm import IV2SLS\n",
    "\n",
    "# First stage: regress X on Z\n",
    "first_stage = sm.OLS(data['X'], sm.add_constant(data['Z'])).fit()\n",
    "print('First stage: X ~ Z')\n",
    "print(first_stage.summary())\n",
    "\n",
    "# Second stage: regress Y on predicted X\n",
    "data['X_hat'] = first_stage.predict(sm.add_constant(data['Z']))\n",
    "second_stage = sm.OLS(data['Y'], sm.add_constant(data['X_hat'])).fit()\n",
    "print('\\nSecond stage: Y ~ X_hat')\n",
    "print(second_stage.summary())\n",
    "\n",
    "# Direct IV2SLS estimation\n",
    "iv = IV2SLS(data['Y'], sm.add_constant(data['X']), data['Z']).fit()\n",
    "print('\\nIV2SLS estimation:')\n",
    "print(iv.summary())"
   ]
  },
  {
   "cell_type": "markdown",
   "id": "309176c0",
   "metadata": {},
   "source": [
    "## Interpretation\n",
    "\n",
    "The estimated coefficient of X from the IV2SLS model represents the causal effect of X on Y, accounting for unobserved confounding via the instrument Z."
   ]
  }
 ],
 "metadata": {
  "kernelspec": {
   "display_name": "3.12.2",
   "language": "python",
   "name": "python3"
  },
  "language_info": {
   "codemirror_mode": {
    "name": "ipython",
    "version": 3
   },
   "file_extension": ".py",
   "mimetype": "text/x-python",
   "name": "python",
   "nbconvert_exporter": "python",
   "pygments_lexer": "ipython3",
   "version": "3.12.2"
  }
 },
 "nbformat": 4,
 "nbformat_minor": 5
}

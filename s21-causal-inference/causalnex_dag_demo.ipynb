{
 "cells": [
  {
   "cell_type": "markdown",
   "id": "3da5425e",
   "metadata": {},
   "source": [
    "# Demonstrating Directed Acyclic Graphs (DAGs) with CausalNex\n",
    "\n",
    "This notebook covers:\n",
    "- Creating a DAG using CausalNex\n",
    "- Simulating interventions\n",
    "- Assessing DAG assumptions\n",
    "- Plotting DAGs and intervention effects\n",
    "\n",
    "CausalNex supports python < 3.9, >3.6"
   ]
  },
  {
   "cell_type": "code",
   "execution_count": null,
   "id": "ea17a6d9",
   "metadata": {},
   "outputs": [],
   "source": [
    "# Install required libraries (uncomment if running in a new environment)\n",
    "!pip install causalnex matplotlib numpy networkx"
   ]
  },
  {
   "cell_type": "code",
   "execution_count": null,
   "id": "2deb8ea4",
   "metadata": {},
   "outputs": [],
   "source": [
    "# Import required libraries\n",
    "from causalnex.structure import StructureModel\n",
    "from causalnex.plots import plot_structure, plot_interventional_graph\n",
    "import matplotlib.pyplot as plt\n",
    "import numpy as np"
   ]
  },
  {
   "cell_type": "markdown",
   "id": "2ec7f306",
   "metadata": {},
   "source": [
    "## Create a Directed Acyclic Graph (DAG) with CausalNex\n",
    "\n",
    "Let's define a simple DAG representing relationships between variables."
   ]
  },
  {
   "cell_type": "code",
   "execution_count": null,
   "id": "cb7fdc30",
   "metadata": {},
   "outputs": [],
   "source": [
    "# Define nodes and edges for the DAG\n",
    "sm = StructureModel()\n",
    "sm.add_edges_from([\n",
    "    ('Exercise', 'Health'),\n",
    "    ('Diet', 'Health'),\n",
    "    ('Sleep', 'Health'),\n",
    "    ('Stress', 'Sleep'),\n",
    "    ('Stress', 'Health')\n",
    "])\n",
    "\n",
    "print(\"Nodes:\", sm.nodes())\n",
    "print(\"Edges:\", sm.edges())"
   ]
  },
  {
   "cell_type": "markdown",
   "id": "614b13cb",
   "metadata": {},
   "source": [
    "## Plot the DAG\n",
    "\n",
    "Visualize the DAG structure using CausalNex plotting utilities."
   ]
  },
  {
   "cell_type": "code",
   "execution_count": null,
   "id": "bf63d26f",
   "metadata": {},
   "outputs": [],
   "source": [
    "# Plot the DAG\n",
    "fig = plot_structure(sm)\n",
    "plt.show()"
   ]
  },
  {
   "cell_type": "markdown",
   "id": "bfe35a10",
   "metadata": {},
   "source": [
    "## Simulate Interventions on the DAG\n",
    "\n",
    "Let's simulate an intervention (do-operator) on one of the nodes and observe the effect on others."
   ]
  },
  {
   "cell_type": "code",
   "execution_count": null,
   "id": "541cbc96",
   "metadata": {},
   "outputs": [],
   "source": [
    "# Simulate intervention: set 'Exercise' to a high value and observe effect\n",
    "from causalnex.inference import InferenceEngine\n",
    "\n",
    "# Create a simple CPD for demonstration\n",
    "sm.add_edge('Exercise', 'Health', weight=0.8)\n",
    "sm.add_edge('Diet', 'Health', weight=0.6)\n",
    "sm.add_edge('Sleep', 'Health', weight=0.5)\n",
    "sm.add_edge('Stress', 'Sleep', weight=-0.7)\n",
    "sm.add_edge('Stress', 'Health', weight=-0.4)\n",
    "\n",
    "ie = InferenceEngine(sm)\n",
    "\n",
    "# Set values for intervention\n",
    "ie.do_intervention('Exercise', 1)  # Simulate high exercise\n",
    "result = ie.query()\n",
    "print(\"Effect of intervention on Health:\", result['Health'])"
   ]
  },
  {
   "cell_type": "markdown",
   "id": "ba4d58bd",
   "metadata": {},
   "source": [
    "## Assess DAG Assumptions\n",
    "\n",
    "Let's check key assumptions such as conditional independence and faithfulness."
   ]
  },
  {
   "cell_type": "code",
   "execution_count": null,
   "id": "f645ec53",
   "metadata": {},
   "outputs": [],
   "source": [
    "# Assess conditional independence and faithfulness\n",
    "# For demonstration, check if 'Exercise' and 'Diet' are independent given 'Health'\n",
    "from causalnex.structure.notears import from_pandas\n",
    "import pandas as pd\n",
    "\n",
    "# Simulate some data\n",
    "np.random.seed(42)\n",
    "data = pd.DataFrame({\n",
    "    'Exercise': np.random.binomial(1, 0.5, 100),\n",
    "    'Diet': np.random.binomial(1, 0.5, 100),\n",
    "    'Sleep': np.random.binomial(1, 0.5, 100),\n",
    "    'Stress': np.random.binomial(1, 0.5, 100)\n",
    "})\n",
    "data['Health'] = (data['Exercise']*0.8 + data['Diet']*0.6 + data['Sleep']*0.5 - data['Stress']*0.4 + np.random.normal(0, 0.1, 100))\n",
    "\n",
    "# Learn structure from data\n",
    "learned_sm = from_pandas(data)\n",
    "print(\"Learned edges:\", learned_sm.edges())"
   ]
  },
  {
   "cell_type": "markdown",
   "id": "ff85833a",
   "metadata": {},
   "source": [
    "## Plot Intervention Effects\n",
    "\n",
    "Visualize the effect of interventions on the DAG."
   ]
  },
  {
   "cell_type": "code",
   "execution_count": 7,
   "id": "9a88d80b",
   "metadata": {},
   "outputs": [
    {
     "ename": "NameError",
     "evalue": "name 'plot_interventional_graph' is not defined",
     "output_type": "error",
     "traceback": [
      "\u001b[0;31m---------------------------------------------------------------------------\u001b[0m",
      "\u001b[0;31mNameError\u001b[0m                                 Traceback (most recent call last)",
      "Cell \u001b[0;32mIn[7], line 2\u001b[0m\n\u001b[1;32m      1\u001b[0m \u001b[38;5;66;03m# Plot the DAG after intervention\u001b[39;00m\n\u001b[0;32m----> 2\u001b[0m fig \u001b[38;5;241m=\u001b[39m \u001b[43mplot_interventional_graph\u001b[49m(sm, interventions\u001b[38;5;241m=\u001b[39m{\u001b[38;5;124m'\u001b[39m\u001b[38;5;124mExercise\u001b[39m\u001b[38;5;124m'\u001b[39m: \u001b[38;5;241m1\u001b[39m})\n\u001b[1;32m      3\u001b[0m plt\u001b[38;5;241m.\u001b[39mshow()\n",
      "\u001b[0;31mNameError\u001b[0m: name 'plot_interventional_graph' is not defined"
     ]
    }
   ],
   "source": [
    "# Plot the DAG after intervention\n",
    "fig = plot_interventional_graph(sm, interventions={'Exercise': 1})\n",
    "plt.show()"
   ]
  }
 ],
 "metadata": {
  "kernelspec": {
   "display_name": "3.12.2",
   "language": "python",
   "name": "python3"
  },
  "language_info": {
   "codemirror_mode": {
    "name": "ipython",
    "version": 3
   },
   "file_extension": ".py",
   "mimetype": "text/x-python",
   "name": "python",
   "nbconvert_exporter": "python",
   "pygments_lexer": "ipython3",
   "version": "3.12.2"
  }
 },
 "nbformat": 4,
 "nbformat_minor": 5
}

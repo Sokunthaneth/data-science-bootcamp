{
 "cells": [
  {
   "cell_type": "markdown",
   "id": "02f89704",
   "metadata": {},
   "source": [
    "# Web Scraping with Requests and BeautifulSoup\n",
    "\n",
    "This notebook demonstrates the basics of web scraping using Python's `requests` and `BeautifulSoup` libraries. We will fetch a web page and extract information from its HTML content."
   ]
  },
  {
   "cell_type": "code",
   "execution_count": 1,
   "id": "ec45543b",
   "metadata": {},
   "outputs": [],
   "source": [
    "# Import required libraries\n",
    "import requests\n",
    "from bs4 import BeautifulSoup"
   ]
  },
  {
   "cell_type": "markdown",
   "id": "462df0e0",
   "metadata": {},
   "source": [
    "## Example Website\n",
    "\n",
    "We will scrape data from the [Quotes to Scrape](http://quotes.toscrape.com/) website, which is designed for web scraping practice."
   ]
  },
  {
   "cell_type": "code",
   "execution_count": 2,
   "id": "13753194",
   "metadata": {},
   "outputs": [
    {
     "name": "stdout",
     "output_type": "stream",
     "text": [
      "<!DOCTYPE html>\n",
      "<html lang=\"en\">\n",
      "<head>\n",
      "\t<meta charset=\"UTF-8\">\n",
      "\t<title>Quotes to Scrape</title>\n",
      "    <link rel=\"stylesheet\" href=\"/static/bootstrap.min.css\">\n",
      "    <link rel=\"stylesheet\" href=\"/static/main.css\">\n",
      "    \n",
      "    \n",
      "</head>\n",
      "<body>\n",
      "    <div class=\"container\">\n",
      "        <div class=\"row header-box\">\n",
      "            <div class=\"col-md-8\">\n",
      "                <h1>\n",
      "                    <a href=\"/\" style=\"text-decoration: none\">Quotes to Scrape</a>\n",
      "                </h1>\n",
      "            </div>\n",
      "            <div cla\n"
     ]
    }
   ],
   "source": [
    "# Fetch the web page content\n",
    "url = 'http://quotes.toscrape.com/'\n",
    "response = requests.get(url)\n",
    "html_content = response.text\n",
    "# Display the first 500 characters of the HTML\n",
    "print(html_content[:500])"
   ]
  },
  {
   "cell_type": "markdown",
   "id": "7f5b6b5d",
   "metadata": {},
   "source": [
    "## Parsing HTML with BeautifulSoup\n",
    "\n",
    "We will use BeautifulSoup to parse the HTML content and extract quotes and their authors."
   ]
  },
  {
   "cell_type": "code",
   "execution_count": 3,
   "id": "6cd78238",
   "metadata": {},
   "outputs": [
    {
     "data": {
      "text/plain": [
       "[{'quote': '“The world as we have created it is a process of our thinking. It cannot be changed without changing our thinking.”',\n",
       "  'author': 'Albert Einstein'},\n",
       " {'quote': '“It is our choices, Harry, that show what we truly are, far more than our abilities.”',\n",
       "  'author': 'J.K. Rowling'},\n",
       " {'quote': '“There are only two ways to live your life. One is as though nothing is a miracle. The other is as though everything is a miracle.”',\n",
       "  'author': 'Albert Einstein'}]"
      ]
     },
     "execution_count": 3,
     "metadata": {},
     "output_type": "execute_result"
    }
   ],
   "source": [
    "# Parse the HTML content with BeautifulSoup\n",
    "soup = BeautifulSoup(html_content, 'html.parser')\n",
    "\n",
    "# Extract all quotes and their authors\n",
    "quotes = []\n",
    "for quote_block in soup.find_all('div', class_='quote'):\n",
    "    text = quote_block.find('span', class_='text').get_text(strip=True)\n",
    "    author = quote_block.find('small', class_='author').get_text(strip=True)\n",
    "    quotes.append({'quote': text, 'author': author})\n",
    "\n",
    "# Display the first 3 quotes\n",
    "quotes[:3]"
   ]
  },
  {
   "cell_type": "markdown",
   "id": "20cdf3f6",
   "metadata": {},
   "source": [
    "## Summary\n",
    "\n",
    "In this notebook, we demonstrated how to perform basic web scraping using `requests` to fetch web content and `BeautifulSoup` to parse and extract information from HTML."
   ]
  }
 ],
 "metadata": {
  "kernelspec": {
   "display_name": "Python 3",
   "language": "python",
   "name": "python3"
  },
  "language_info": {
   "codemirror_mode": {
    "name": "ipython",
    "version": 3
   },
   "file_extension": ".py",
   "mimetype": "text/x-python",
   "name": "python",
   "nbconvert_exporter": "python",
   "pygments_lexer": "ipython3",
   "version": "3.12.2"
  }
 },
 "nbformat": 4,
 "nbformat_minor": 5
}

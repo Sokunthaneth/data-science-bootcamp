{
 "cells": [
  {
   "cell_type": "markdown",
   "id": "4887a143",
   "metadata": {},
   "source": [
    "# Pandas Review\n",
    "This notebook provides a hands-on review of essential pandas operations, including creating DataFrames, reading files, filtering, grouping, handling missing data, and more."
   ]
  },
  {
   "cell_type": "code",
   "execution_count": 1,
   "id": "13de82d4",
   "metadata": {},
   "outputs": [
    {
     "name": "stdout",
     "output_type": "stream",
     "text": [
      "Requirement already satisfied: pandas in /Users/mac/.pyenv/versions/3.12.2/lib/python3.12/site-packages (2.2.3)\n",
      "Requirement already satisfied: numpy>=1.26.0 in /Users/mac/.pyenv/versions/3.12.2/lib/python3.12/site-packages (from pandas) (1.26.4)\n",
      "Requirement already satisfied: python-dateutil>=2.8.2 in /Users/mac/.pyenv/versions/3.12.2/lib/python3.12/site-packages (from pandas) (2.9.0.post0)\n",
      "Requirement already satisfied: pytz>=2020.1 in /Users/mac/.pyenv/versions/3.12.2/lib/python3.12/site-packages (from pandas) (2025.1)\n",
      "Requirement already satisfied: tzdata>=2022.7 in /Users/mac/.pyenv/versions/3.12.2/lib/python3.12/site-packages (from pandas) (2025.1)\n",
      "Requirement already satisfied: six>=1.5 in /Users/mac/.pyenv/versions/3.12.2/lib/python3.12/site-packages (from python-dateutil>=2.8.2->pandas) (1.16.0)\n",
      "\n",
      "\u001b[1m[\u001b[0m\u001b[34;49mnotice\u001b[0m\u001b[1;39;49m]\u001b[0m\u001b[39;49m A new release of pip is available: \u001b[0m\u001b[31;49m25.0.1\u001b[0m\u001b[39;49m -> \u001b[0m\u001b[32;49m25.1.1\u001b[0m\n",
      "\u001b[1m[\u001b[0m\u001b[34;49mnotice\u001b[0m\u001b[1;39;49m]\u001b[0m\u001b[39;49m To update, run: \u001b[0m\u001b[32;49mpip install --upgrade pip\u001b[0m\n",
      "Note: you may need to restart the kernel to use updated packages.\n"
     ]
    }
   ],
   "source": [
    "%pip install pandas"
   ]
  },
  {
   "cell_type": "markdown",
   "id": "5cee014a",
   "metadata": {},
   "source": [
    "## 1. Creating Series and DataFrames\n",
    "Create a pandas DataFrame from a dictionary and extract a Series from one of its columns."
   ]
  },
  {
   "cell_type": "code",
   "execution_count": null,
   "id": "52b53852",
   "metadata": {},
   "outputs": [
    {
     "name": "stdout",
     "output_type": "stream",
     "text": [
      "DataFrame:\n",
      "       Name  Age Department  Salary\n",
      "0    Alice   24         HR   50000\n",
      "1      Bob   27         IT   60000\n",
      "2  Charlie   22         IT   55000\n",
      "3    David   32         HR   65000\n",
      "4      Eva   29    Finance   70000\n",
      "0    24\n",
      "1    27\n",
      "2    22\n",
      "3    32\n",
      "4    29\n",
      "Name: Age, dtype: int64\n",
      "\n",
      "Series (Age):\n",
      " 0    24\n",
      "1    27\n",
      "2    22\n",
      "3    32\n",
      "4    29\n",
      "Name: Age, dtype: int64\n"
     ]
    }
   ],
   "source": [
    "import pandas as pd\n",
    "\n",
    "# 1. Creating Series and DataFrames\n",
    "data = {'Name': ['Alice', 'Bob', 'Charlie', 'David', 'Eva'],\n",
    "    'Age': [24, 27, 22, 32, 29],\n",
    "    'Department': ['HR', 'IT', 'IT', 'HR', 'Finance'],\n",
    "    'Salary': [50000, 60000, 55000, 65000, 70000]}\n",
    "df = pd.DataFrame(data)\n",
    "print(\"DataFrame:\\n\", df)\n",
    "\n",
    "# Creating a Series\n",
    "age_series = pd.Series(df['Age'])\n",
    "print(\"\\nSeries (Age):\\n\", age_series)"
   ]
  },
  {
   "cell_type": "markdown",
   "id": "6101a37c",
   "metadata": {},
   "source": [
    "## 2. Reading CSV/Excel Files\n",
    "Read data from CSV and Excel files into pandas DataFrames."
   ]
  },
  {
   "cell_type": "code",
   "execution_count": 29,
   "id": "2a160c67",
   "metadata": {},
   "outputs": [
    {
     "data": {
      "text/html": [
       "<div>\n",
       "<style scoped>\n",
       "    .dataframe tbody tr th:only-of-type {\n",
       "        vertical-align: middle;\n",
       "    }\n",
       "\n",
       "    .dataframe tbody tr th {\n",
       "        vertical-align: top;\n",
       "    }\n",
       "\n",
       "    .dataframe thead th {\n",
       "        text-align: right;\n",
       "    }\n",
       "</style>\n",
       "<table border=\"1\" class=\"dataframe\">\n",
       "  <thead>\n",
       "    <tr style=\"text-align: right;\">\n",
       "      <th></th>\n",
       "      <th>Name</th>\n",
       "      <th>Age</th>\n",
       "      <th>Department</th>\n",
       "      <th>Salary</th>\n",
       "    </tr>\n",
       "  </thead>\n",
       "  <tbody>\n",
       "    <tr>\n",
       "      <th>0</th>\n",
       "      <td>Alice</td>\n",
       "      <td>24</td>\n",
       "      <td>HR</td>\n",
       "      <td>50000</td>\n",
       "    </tr>\n",
       "    <tr>\n",
       "      <th>1</th>\n",
       "      <td>Bob</td>\n",
       "      <td>27</td>\n",
       "      <td>IT</td>\n",
       "      <td>60000</td>\n",
       "    </tr>\n",
       "    <tr>\n",
       "      <th>2</th>\n",
       "      <td>Charlie</td>\n",
       "      <td>22</td>\n",
       "      <td>IT</td>\n",
       "      <td>55000</td>\n",
       "    </tr>\n",
       "    <tr>\n",
       "      <th>3</th>\n",
       "      <td>David</td>\n",
       "      <td>32</td>\n",
       "      <td>HR</td>\n",
       "      <td>65000</td>\n",
       "    </tr>\n",
       "    <tr>\n",
       "      <th>4</th>\n",
       "      <td>Eva</td>\n",
       "      <td>29</td>\n",
       "      <td>Finance</td>\n",
       "      <td>70000</td>\n",
       "    </tr>\n",
       "  </tbody>\n",
       "</table>\n",
       "</div>"
      ],
      "text/plain": [
       "      Name  Age Department  Salary\n",
       "0    Alice   24         HR   50000\n",
       "1      Bob   27         IT   60000\n",
       "2  Charlie   22         IT   55000\n",
       "3    David   32         HR   65000\n",
       "4      Eva   29    Finance   70000"
      ]
     },
     "execution_count": 29,
     "metadata": {},
     "output_type": "execute_result"
    }
   ],
   "source": [
    "# 2. Reading CSV/Excel (Assume 'employees.csv' exists)\n",
    "df_csv = pd.read_csv('employees.csv')\n",
    "# df_excel = pd.read_excel('employees.xlsx')\n",
    "\n",
    "df_csv.head()\n",
    "\n"
   ]
  },
  {
   "cell_type": "markdown",
   "id": "665844c8",
   "metadata": {},
   "source": [
    "## 3. Filtering & Selecting Data\n",
    "Filter rows based on conditions and select specific columns from a DataFrame."
   ]
  },
  {
   "cell_type": "code",
   "execution_count": 30,
   "id": "37518975",
   "metadata": {},
   "outputs": [
    {
     "name": "stdout",
     "output_type": "stream",
     "text": [
      "\n",
      "Employees older than 25:\n",
      "     Name  Age Department  Salary\n",
      "1    Bob   27         IT   60000\n",
      "3  David   32         HR   65000\n",
      "4    Eva   29    Finance   70000\n",
      "\n",
      "Name and Salary columns:\n",
      "       Name  Salary\n",
      "0    Alice   50000\n",
      "1      Bob   60000\n",
      "2  Charlie   55000\n",
      "3    David   65000\n",
      "4      Eva   70000\n"
     ]
    }
   ],
   "source": [
    "# 3. Filtering & Selecting\n",
    "# Select employees older than 25\n",
    "older_than_25 = df[df['Age'] > 25]\n",
    "print(\"\\nEmployees older than 25:\\n\", older_than_25)\n",
    "\n",
    "# Select only Name and Salary columns\n",
    "name_salary = df[['Name', 'Salary']]\n",
    "print(\"\\nName and Salary columns:\\n\", name_salary)\n",
    "\n"
   ]
  },
  {
   "cell_type": "markdown",
   "id": "7c272bd9",
   "metadata": {},
   "source": [
    "## 4. Group By and Aggregation\n",
    "Group data by a column and perform aggregation functions such as mean and count."
   ]
  },
  {
   "cell_type": "code",
   "execution_count": 3,
   "id": "42277bab",
   "metadata": {},
   "outputs": [
    {
     "name": "stdout",
     "output_type": "stream",
     "text": [
      "\n",
      "Average Salary by Department:\n",
      " Department\n",
      "Finance    70000.0\n",
      "HR         57500.0\n",
      "IT         57500.0\n",
      "Name: Salary, dtype: float64\n",
      "\n",
      "Employee count by Department:\n",
      " Department\n",
      "Finance    1\n",
      "HR         2\n",
      "IT         2\n",
      "Name: Name, dtype: int64\n"
     ]
    }
   ],
   "source": [
    "# 4. Group by and Aggregation\n",
    "# Average salary by department\n",
    "avg_salary_dept = df.groupby('Department')['Salary'].mean()\n",
    "print(\"\\nAverage Salary by Department:\\n\", avg_salary_dept)\n",
    "\n",
    "# Count of employees by department\n",
    "count_dept = df.groupby('Department')['Name'].count()\n",
    "print(\"\\nEmployee count by Department:\\n\", count_dept)"
   ]
  },
  {
   "cell_type": "markdown",
   "id": "bc1fa738",
   "metadata": {},
   "source": [
    "## 5. Data Inspection\n",
    "Inspect DataFrame structure and summary statistics."
   ]
  },
  {
   "cell_type": "code",
   "execution_count": 32,
   "id": "f0c2f672",
   "metadata": {},
   "outputs": [
    {
     "name": "stdout",
     "output_type": "stream",
     "text": [
      "\n",
      "DataFrame Info:\n",
      "<class 'pandas.core.frame.DataFrame'>\n",
      "RangeIndex: 5 entries, 0 to 4\n",
      "Data columns (total 4 columns):\n",
      " #   Column      Non-Null Count  Dtype \n",
      "---  ------      --------------  ----- \n",
      " 0   Name        5 non-null      object\n",
      " 1   Age         5 non-null      int64 \n",
      " 2   Department  5 non-null      object\n",
      " 3   Salary      5 non-null      int64 \n",
      "dtypes: int64(2), object(2)\n",
      "memory usage: 292.0+ bytes\n",
      "\n",
      "Summary Statistics:\n",
      "             Age       Salary\n",
      "count   5.000000      5.00000\n",
      "mean   26.800000  60000.00000\n",
      "std     3.962323   7905.69415\n",
      "min    22.000000  50000.00000\n",
      "25%    24.000000  55000.00000\n",
      "50%    27.000000  60000.00000\n",
      "75%    29.000000  65000.00000\n",
      "max    32.000000  70000.00000\n"
     ]
    }
   ],
   "source": [
    "#5.  Data Inspection\n",
    "print(\"\\nDataFrame Info:\")\n",
    "df.info()\n",
    "print(\"\\nSummary Statistics:\")\n",
    "print(df.describe())"
   ]
  },
  {
   "cell_type": "markdown",
   "id": "539975a5",
   "metadata": {},
   "source": [
    "## 6. Handling Missing Data\n",
    "Identify and handle missing values in a DataFrame."
   ]
  },
  {
   "cell_type": "code",
   "execution_count": null,
   "id": "725a0d89",
   "metadata": {},
   "outputs": [
    {
     "name": "stdout",
     "output_type": "stream",
     "text": [
      "\n",
      "Missing values:\n",
      "     Name    Age  Department  Salary\n",
      "0  False  False       False   False\n",
      "1  False  False       False   False\n",
      "2  False  False       False    True\n",
      "3  False  False       False   False\n",
      "4  False  False       False   False\n",
      "\n",
      "Fill missing values with 0:\n",
      "       Name  Age Department   Salary\n",
      "0    Alice   24         HR  50000.0\n",
      "1      Bob   27         IT  60000.0\n",
      "2  Charlie   22         IT    888.0\n",
      "3    David   32         HR  65000.0\n",
      "4      Eva   29    Finance  70000.0\n"
     ]
    }
   ],
   "source": [
    "#6. Handling Missing Data\n",
    "df_missing = df.copy()\n",
    "df_missing.loc[2, 'Salary'] = None  # introduce a missing value\n",
    "print(\"\\nMissing values:\\n\", df_missing.isnull())\n",
    "print(\"\\nFill missing values with 0:\\n\", df_missing.fillna(0))\n"
   ]
  },
  {
   "cell_type": "markdown",
   "id": "f6102e14",
   "metadata": {},
   "source": [
    "## 7. Sorting & Indexing\n",
    "Sort DataFrames and change the index."
   ]
  },
  {
   "cell_type": "code",
   "execution_count": 7,
   "id": "d0cb57e4",
   "metadata": {},
   "outputs": [
    {
     "name": "stdout",
     "output_type": "stream",
     "text": [
      "\n",
      "Sorted by Age:\n",
      "       Name  Age Department  Salary\n",
      "2  Charlie   22         IT   55000\n",
      "0    Alice   24         HR   50000\n",
      "1      Bob   27         IT   60000\n",
      "4      Eva   29    Finance   70000\n",
      "3    David   32         HR   65000\n",
      "\n",
      "Set 'Name' as index:\n",
      "          Age Department  Salary\n",
      "Name                           \n",
      "Alice     24         HR   50000\n",
      "Bob       27         IT   60000\n",
      "Charlie   22         IT   55000\n",
      "David     32         HR   65000\n",
      "Eva       29    Finance   70000\n",
      "\n",
      "Reset index:\n",
      "       Name  Age Department  Salary\n",
      "0    Alice   24         HR   50000\n",
      "1      Bob   27         IT   60000\n",
      "2  Charlie   22         IT   55000\n",
      "3    David   32         HR   65000\n",
      "4      Eva   29    Finance   70000\n"
     ]
    }
   ],
   "source": [
    "# 7. Sorting & Indexing\n",
    "print(\"\\nSorted by Age:\\n\", df.sort_values(by='Age'))\n",
    "df_indexed = df.set_index('Name')\n",
    "print(\"\\nSet 'Name' as index:\\n\", df_indexed)\n",
    "print(\"\\nReset index:\\n\", df_indexed.reset_index())\n"
   ]
  },
  {
   "cell_type": "markdown",
   "id": "97301db3",
   "metadata": {},
   "source": [
    "## 8. Data Selection by Label and Position\n",
    "Select data using `.loc` (label-based) and `.iloc` (position-based) indexing."
   ]
  },
  {
   "cell_type": "code",
   "execution_count": 12,
   "id": "15b99e6e",
   "metadata": {},
   "outputs": [
    {
     "name": "stdout",
     "output_type": "stream",
     "text": [
      "      Name  Age Department  Salary\n",
      "0    Alice   24         HR   50000\n",
      "1      Bob   27         IT   60000\n",
      "2  Charlie   22         IT   55000\n",
      "3    David   32         HR   65000\n",
      "4      Eva   29    Finance   70000\n",
      "\n",
      "Select by label (loc):\n",
      " Alice\n",
      "\n",
      "Select by position (iloc):\n",
      " 24\n"
     ]
    }
   ],
   "source": [
    "# 8. Data Selection\n",
    "print(df)\n",
    "print(\"\\nSelect by label (loc):\\n\", df.loc[0, 'Name'])\n",
    "print(\"\\nSelect by position (iloc):\\n\", df.iloc[0, 1])\n"
   ]
  },
  {
   "cell_type": "markdown",
   "id": "281c5455",
   "metadata": {},
   "source": [
    "## 9. Merging & Joining DataFrames\n",
    "Combine DataFrames using merge operations."
   ]
  },
  {
   "cell_type": "code",
   "execution_count": 36,
   "id": "87b65c59",
   "metadata": {},
   "outputs": [
    {
     "name": "stdout",
     "output_type": "stream",
     "text": [
      "\n",
      "Merged DataFrame:\n",
      "       Name  Age Department  Salary   Bonus\n",
      "0    Alice   24         HR   50000  1000.0\n",
      "1      Bob   27         IT   60000  1500.0\n",
      "2  Charlie   22         IT   55000     NaN\n",
      "3    David   32         HR   65000     NaN\n",
      "4      Eva   29    Finance   70000     NaN\n"
     ]
    }
   ],
   "source": [
    "# 9. Merging & Joining\n",
    "df2 = pd.DataFrame({'Name': ['Alice', 'Bob'], 'Bonus': [1000, 1500]})\n",
    "merged = pd.merge(df, df2, on='Name', how='left')\n",
    "print(\"\\nMerged DataFrame:\\n\", merged)"
   ]
  },
  {
   "cell_type": "markdown",
   "id": "ca37158b",
   "metadata": {},
   "source": [
    "## 10. Applying Functions\n",
    "Apply custom functions to DataFrame columns."
   ]
  },
  {
   "cell_type": "code",
   "execution_count": 37,
   "id": "48a94d8c",
   "metadata": {},
   "outputs": [
    {
     "name": "stdout",
     "output_type": "stream",
     "text": [
      "\n",
      "Apply function (double salary):\n",
      " 0    100000\n",
      "1    120000\n",
      "2    110000\n",
      "3    130000\n",
      "4    140000\n",
      "Name: Salary, dtype: int64\n"
     ]
    }
   ],
   "source": [
    "# 10. Applying Functions\n",
    "print(\"\\nApply function (double salary):\\n\",\n",
    "      df['Salary'].apply(lambda x: x * 2))\n"
   ]
  },
  {
   "cell_type": "markdown",
   "id": "5fb5c915",
   "metadata": {},
   "source": [
    "## 11. String Operations\n",
    "Perform string operations on DataFrame columns."
   ]
  },
  {
   "cell_type": "code",
   "execution_count": null,
   "id": "443586ee",
   "metadata": {},
   "outputs": [
    {
     "name": "stdout",
     "output_type": "stream",
     "text": [
      "\n",
      "Department in lowercase:\n",
      " 0         HR\n",
      "1         IT\n",
      "2         IT\n",
      "3         HR\n",
      "4    FINANCE\n",
      "Name: Department, dtype: object\n"
     ]
    }
   ],
   "source": [
    "# 11. String Operations\n",
    "print(\"\\nDepartment in lowercase:\\n\", df['Department'].str.lower())\n"
   ]
  },
  {
   "cell_type": "markdown",
   "id": "bea910dc",
   "metadata": {},
   "source": [
    "## 12. Datetime Handling\n",
    "Work with datetime columns in pandas."
   ]
  },
  {
   "cell_type": "code",
   "execution_count": 17,
   "id": "4d520c74",
   "metadata": {},
   "outputs": [
    {
     "name": "stdout",
     "output_type": "stream",
     "text": [
      "\n",
      "Year from date column:\n",
      " 0    2024\n",
      "1    2024\n",
      "Name: date, dtype: int32\n"
     ]
    }
   ],
   "source": [
    "# 12. Datetime Handling\n",
    "df_dates = pd.DataFrame({'date': ['2024-01-01', '2024-05-15']})\n",
    "df_dates['date'] = pd.to_datetime(df_dates['date'])\n",
    "print(\"\\nYear from date column:\\n\", df_dates['date'].dt.year)\n"
   ]
  },
  {
   "cell_type": "markdown",
   "id": "f35ddd51",
   "metadata": {},
   "source": [
    "## 13. Pivot Tables\n",
    "Create pivot tables to summarize data."
   ]
  },
  {
   "cell_type": "code",
   "execution_count": 40,
   "id": "b8c695dd",
   "metadata": {},
   "outputs": [
    {
     "name": "stdout",
     "output_type": "stream",
     "text": [
      "\n",
      "Pivot Table (Avg Salary by Department):\n",
      "              Salary\n",
      "Department         \n",
      "Finance     70000.0\n",
      "HR          57500.0\n",
      "IT          57500.0\n"
     ]
    }
   ],
   "source": [
    "# 13. Pivot Table\n",
    "pivot = df.pivot_table(values='Salary', index='Department', aggfunc='mean')\n",
    "print(\"\\nPivot Table (Avg Salary by Department):\\n\", pivot)\n"
   ]
  },
  {
   "cell_type": "markdown",
   "id": "9eb830af",
   "metadata": {},
   "source": [
    "## 14. Exporting Data\n",
    "Export DataFrames to CSV and Excel files."
   ]
  },
  {
   "cell_type": "code",
   "execution_count": 41,
   "id": "41446602",
   "metadata": {},
   "outputs": [
    {
     "name": "stdout",
     "output_type": "stream",
     "text": [
      "Requirement already satisfied: openpyxl in /Users/mac/.pyenv/versions/3.12.2/lib/python3.12/site-packages (3.1.5)\n",
      "Requirement already satisfied: et-xmlfile in /Users/mac/.pyenv/versions/3.12.2/lib/python3.12/site-packages (from openpyxl) (2.0.0)\n",
      "\n",
      "\u001b[1m[\u001b[0m\u001b[34;49mnotice\u001b[0m\u001b[1;39;49m]\u001b[0m\u001b[39;49m A new release of pip is available: \u001b[0m\u001b[31;49m25.0.1\u001b[0m\u001b[39;49m -> \u001b[0m\u001b[32;49m25.1.1\u001b[0m\n",
      "\u001b[1m[\u001b[0m\u001b[34;49mnotice\u001b[0m\u001b[1;39;49m]\u001b[0m\u001b[39;49m To update, run: \u001b[0m\u001b[32;49mpip install --upgrade pip\u001b[0m\n",
      "Note: you may need to restart the kernel to use updated packages.\n"
     ]
    }
   ],
   "source": [
    "%pip install openpyxl"
   ]
  },
  {
   "cell_type": "markdown",
   "id": "1777f1f5",
   "metadata": {},
   "source": [
    "*Install `openpyxl` to enable Excel file export functionality.*"
   ]
  },
  {
   "cell_type": "code",
   "execution_count": 42,
   "id": "a9b7c9af",
   "metadata": {},
   "outputs": [],
   "source": [
    "# 14. Exporting Data (commented out to avoid file creation)\n",
    "df.to_csv('output.csv')\n",
    "df.to_excel('output.xlsx')"
   ]
  }
 ],
 "metadata": {
  "kernelspec": {
   "display_name": "Python 3",
   "language": "python",
   "name": "python3"
  },
  "language_info": {
   "codemirror_mode": {
    "name": "ipython",
    "version": 3
   },
   "file_extension": ".py",
   "mimetype": "text/x-python",
   "name": "python",
   "nbconvert_exporter": "python",
   "pygments_lexer": "ipython3",
   "version": "3.12.2"
  }
 },
 "nbformat": 4,
 "nbformat_minor": 5
}

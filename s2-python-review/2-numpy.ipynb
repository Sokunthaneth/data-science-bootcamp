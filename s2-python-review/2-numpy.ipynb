{
 "cells": [
  {
   "cell_type": "markdown",
   "id": "cd13d789",
   "metadata": {},
   "source": [
    "# NumPy Review\n",
    "This notebook provides a hands-on review of essential NumPy operations, including array creation, manipulation, arithmetic, and more."
   ]
  },
  {
   "cell_type": "code",
   "execution_count": 4,
   "id": "ec217cb1",
   "metadata": {},
   "outputs": [
    {
     "name": "stdout",
     "output_type": "stream",
     "text": [
      "Requirement already satisfied: numpy in /Users/mac/.pyenv/versions/3.12.2/lib/python3.12/site-packages (1.26.4)\n",
      "\n",
      "\u001b[1m[\u001b[0m\u001b[34;49mnotice\u001b[0m\u001b[1;39;49m]\u001b[0m\u001b[39;49m A new release of pip is available: \u001b[0m\u001b[31;49m25.0.1\u001b[0m\u001b[39;49m -> \u001b[0m\u001b[32;49m25.1.1\u001b[0m\n",
      "\u001b[1m[\u001b[0m\u001b[34;49mnotice\u001b[0m\u001b[1;39;49m]\u001b[0m\u001b[39;49m To update, run: \u001b[0m\u001b[32;49mpip install --upgrade pip\u001b[0m\n",
      "Note: you may need to restart the kernel to use updated packages.\n"
     ]
    }
   ],
   "source": [
    "%pip install numpy"
   ]
  },
  {
   "cell_type": "markdown",
   "id": "5738da5e",
   "metadata": {},
   "source": [
    "## 1. Creating a NumPy Array\n",
    "Create a NumPy array from a Python list."
   ]
  },
  {
   "cell_type": "code",
   "execution_count": 1,
   "id": "e730bc7a",
   "metadata": {},
   "outputs": [
    {
     "name": "stdout",
     "output_type": "stream",
     "text": [
      "Array: [1 2 3 4 5]\n"
     ]
    }
   ],
   "source": [
    "import numpy as np\n",
    "\n",
    "# 1. Create a numpy array\n",
    "arr = np.array([1, 2, 3, 4, 5])\n",
    "print(\"Array:\", arr)"
   ]
  },
  {
   "cell_type": "markdown",
   "id": "530c5268",
   "metadata": {},
   "source": [
    "## 2. Arrays of Zeros and Ones\n",
    "Create arrays filled with zeros and ones."
   ]
  },
  {
   "cell_type": "code",
   "execution_count": 3,
   "id": "3d8d1930",
   "metadata": {},
   "outputs": [
    {
     "name": "stdout",
     "output_type": "stream",
     "text": [
      "Zeros:\n",
      " [[0. 0. 0. 0.]\n",
      " [0. 0. 0. 0.]]\n",
      "Ones:\n",
      " [[1. 1. 1. 1.]\n",
      " [1. 1. 1. 1.]]\n"
     ]
    }
   ],
   "source": [
    "# 2. Array of zeros and ones\n",
    "zeros = np.zeros((2, 4))\n",
    "ones = np.ones((2, 4))\n",
    "print(\"Zeros:\\n\", zeros)\n",
    "print(\"Ones:\\n\", ones)"
   ]
  },
  {
   "cell_type": "markdown",
   "id": "7566a714",
   "metadata": {},
   "source": [
    "## 3. Array with Random Values\n",
    "Create an array with random values."
   ]
  },
  {
   "cell_type": "code",
   "execution_count": 5,
   "id": "e537cbfa",
   "metadata": {},
   "outputs": [
    {
     "name": "stdout",
     "output_type": "stream",
     "text": [
      "Random Array:\n",
      " [[0.30470812 0.47294772 0.63384643]\n",
      " [0.92662859 0.22387655 0.7725095 ]]\n"
     ]
    }
   ],
   "source": [
    "# 3. Array with random values\n",
    "rand_arr = np.random.rand(2, 3)\n",
    "print(\"Random Array:\\n\", rand_arr)"
   ]
  },
  {
   "cell_type": "markdown",
   "id": "12ddf08d",
   "metadata": {},
   "source": [
    "## 4. Reshaping Arrays\n",
    "Reshape an existing array to a new shape."
   ]
  },
  {
   "cell_type": "code",
   "execution_count": 7,
   "id": "37768f44",
   "metadata": {},
   "outputs": [
    {
     "name": "stdout",
     "output_type": "stream",
     "text": [
      "Array:\n",
      " [1 2 3 4 5]\n",
      "Reshaped Array:\n",
      " [[1]\n",
      " [2]\n",
      " [3]\n",
      " [4]\n",
      " [5]]\n"
     ]
    }
   ],
   "source": [
    "# 4. Reshape an array\n",
    "print(\"Array:\\n\", arr)\n",
    "\n",
    "reshaped = arr.reshape((5, 1))\n",
    "print(\"Reshaped Array:\\n\", reshaped)"
   ]
  },
  {
   "cell_type": "markdown",
   "id": "cc26c353",
   "metadata": {},
   "source": [
    "## 4. Reshaping Arrays (Duplicate Example)\n",
    "Another example of reshaping an array."
   ]
  },
  {
   "cell_type": "code",
   "execution_count": 9,
   "id": "b6d9f913",
   "metadata": {},
   "outputs": [
    {
     "name": "stdout",
     "output_type": "stream",
     "text": [
      "Reshaped Array:\n",
      " [[1]\n",
      " [2]\n",
      " [3]\n",
      " [4]\n",
      " [5]]\n"
     ]
    }
   ],
   "source": [
    "# 4. Reshape an array\n",
    "reshaped = arr.reshape((5, 1))\n",
    "print(\"Reshaped Array:\\n\", reshaped)"
   ]
  },
  {
   "cell_type": "markdown",
   "id": "80939b4b",
   "metadata": {},
   "source": [
    "## 5. Basic Arithmetic Operations\n",
    "Perform element-wise arithmetic operations on arrays."
   ]
  },
  {
   "cell_type": "code",
   "execution_count": 8,
   "id": "a80083d1",
   "metadata": {},
   "outputs": [
    {
     "name": "stdout",
     "output_type": "stream",
     "text": [
      "Array:\n",
      " [1 2 3 4 5]\n",
      "Sum: [11 22 33 44 55]\n"
     ]
    }
   ],
   "source": [
    "# 5. Basic arithmetic operations\n",
    "print(\"Array:\\n\", arr)\n",
    "\n",
    "arr2 = np.array([10, 20, 30, 40, 50])\n",
    "sum_arr = arr + arr2\n",
    "print(\"Sum:\", sum_arr)"
   ]
  },
  {
   "cell_type": "markdown",
   "id": "bada9861",
   "metadata": {},
   "source": [
    "## 6. Slicing and Indexing\n",
    "Access specific elements or slices of an array."
   ]
  },
  {
   "cell_type": "code",
   "execution_count": null,
   "id": "05128af6",
   "metadata": {},
   "outputs": [
    {
     "name": "stdout",
     "output_type": "stream",
     "text": [
      "Array:\n",
      " [1 2 3 4 5]\n",
      "First three elements: [1 2 3]\n",
      "Last 2 elements: [3]\n"
     ]
    }
   ],
   "source": [
    "# 6. Slicing and indexing\n",
    "print(\"Array:\\n\", arr)\n",
    "\n",
    "print(\"First three elements:\", arr[:3])"
   ]
  },
  {
   "cell_type": "markdown",
   "id": "d214263b",
   "metadata": {},
   "source": [
    "## 7. Aggregate Functions\n",
    "Calculate aggregate statistics such as mean, sum, and max."
   ]
  },
  {
   "cell_type": "code",
   "execution_count": 19,
   "id": "92807976",
   "metadata": {},
   "outputs": [
    {
     "name": "stdout",
     "output_type": "stream",
     "text": [
      "Array:\n",
      " [1 2 3 4 5]\n",
      "Mean: 3.0\n",
      "Sum: 15\n",
      "Max: 5\n",
      "Min: 1\n"
     ]
    }
   ],
   "source": [
    "# 7. Aggregate functions\n",
    "print(\"Array:\\n\", arr)\n",
    "print(\"Mean:\", arr.mean())\n",
    "print(\"Sum:\", arr.sum())\n",
    "print(\"Max:\", arr.max())\n",
    "print(\"Min:\", arr.min())"
   ]
  },
  {
   "cell_type": "markdown",
   "id": "6701e244",
   "metadata": {},
   "source": [
    "## 8. Matrix Multiplication\n",
    "Perform matrix multiplication using NumPy arrays."
   ]
  },
  {
   "cell_type": "code",
   "execution_count": 13,
   "id": "8acd4be7",
   "metadata": {},
   "outputs": [
    {
     "name": "stdout",
     "output_type": "stream",
     "text": [
      "Matrix Multiplication:\n",
      " [[19 22]\n",
      " [43 50]]\n"
     ]
    }
   ],
   "source": [
    "# 8. Matrix multiplication\n",
    "mat1 = np.array([[1, 2], [3, 4]])\n",
    "mat2 = np.array([[5, 6], [7, 8]])\n",
    "mat_mul = np.dot(mat1, mat2)\n",
    "print(\"Matrix Multiplication:\\n\", mat_mul)\n"
   ]
  },
  {
   "cell_type": "markdown",
   "id": "b99a672c",
   "metadata": {},
   "source": [
    "## 9. Transpose\n",
    "Transpose a matrix (swap rows and columns)."
   ]
  },
  {
   "cell_type": "code",
   "execution_count": null,
   "id": "5a66f392",
   "metadata": {},
   "outputs": [
    {
     "name": "stdout",
     "output_type": "stream",
     "text": [
      "Transpose:\n",
      " [[1 3]\n",
      " [2 4]]\n"
     ]
    }
   ],
   "source": [
    "# 9. Transpose\n",
    "print(\"Transpose:\\n\", mat1.T)\n"
   ]
  },
  {
   "cell_type": "markdown",
   "id": "28c81cef",
   "metadata": {},
   "source": [
    "## 10. Boolean Indexing\n",
    "Select elements from an array based on a condition."
   ]
  },
  {
   "cell_type": "code",
   "execution_count": 21,
   "id": "0b252dfb",
   "metadata": {},
   "outputs": [
    {
     "name": "stdout",
     "output_type": "stream",
     "text": [
      "Elements > 2: [3 4 5]\n"
     ]
    }
   ],
   "source": [
    "# 10. Boolean indexing\n",
    "print(\"Elements > 2:\", arr[arr > 2])"
   ]
  }
 ],
 "metadata": {
  "kernelspec": {
   "display_name": "Python 3",
   "language": "python",
   "name": "python3"
  },
  "language_info": {
   "codemirror_mode": {
    "name": "ipython",
    "version": 3
   },
   "file_extension": ".py",
   "mimetype": "text/x-python",
   "name": "python",
   "nbconvert_exporter": "python",
   "pygments_lexer": "ipython3",
   "version": "3.12.2"
  }
 },
 "nbformat": 4,
 "nbformat_minor": 5
}

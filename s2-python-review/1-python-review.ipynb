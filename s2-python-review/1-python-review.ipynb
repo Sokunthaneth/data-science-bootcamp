{
 "cells": [
  {
   "cell_type": "markdown",
   "id": "f800718d",
   "metadata": {},
   "source": [
    "# Python Review: Important Concepts and Data Structures for Data Science\n",
    "\n",
    "This notebook covers essential Python concepts and data structures that are foundational for data science."
   ]
  },
  {
   "cell_type": "markdown",
   "id": "7d5b65ef",
   "metadata": {},
   "source": [
    "## 1. Variables and Data Types\n",
    "Python supports several data types including integers, floats, strings, and booleans."
   ]
  },
  {
   "cell_type": "code",
   "execution_count": 2,
   "id": "933b4ec2",
   "metadata": {},
   "outputs": [
    {
     "name": "stdout",
     "output_type": "stream",
     "text": [
      "<class 'int'> <class 'float'> <class 'str'> <class 'bool'>\n"
     ]
    }
   ],
   "source": [
    "# Example: Variables and Data Types\n",
    "a = 10  # integer\n",
    "b = 3.14  # float\n",
    "c = 'Data Science'  # string\n",
    "d = True  # boolean\n",
    "e = False\n",
    "print(type(a), type(b), type(c), type(d))"
   ]
  },
  {
   "cell_type": "markdown",
   "id": "0a5b199f",
   "metadata": {},
   "source": [
    "## 2. Lists\n",
    "Lists are ordered, mutable collections of items."
   ]
  },
  {
   "cell_type": "code",
   "execution_count": 20,
   "id": "e8a88d8a",
   "metadata": {},
   "outputs": [
    {
     "name": "stdout",
     "output_type": "stream",
     "text": [
      "['apple', 'banana', 'cherry', 'orange']\n",
      "['apple', 'cherry', 'orange']\n",
      "['mango', 'cherry', 'orange']\n",
      "2\n"
     ]
    }
   ],
   "source": [
    "# Example: List\n",
    "fruits = ['apple', 'banana', 'cherry']\n",
    "fruits.append('orange')\n",
    "print(fruits)\n",
    "\n",
    "fruits.remove('banana')\n",
    "print(fruits)\n",
    "\n",
    "fruits[0] = 'mango'\n",
    "print(fruits)\n",
    "\n",
    "dim_2 = [[1,2], [3,4], 'data']\n",
    "print(dim_2[0][1])\n"
   ]
  },
  {
   "cell_type": "markdown",
   "id": "bb75e152",
   "metadata": {},
   "source": [
    "## 3. Tuples\n",
    "Tuples are ordered, immutable collections of items."
   ]
  },
  {
   "cell_type": "code",
   "execution_count": 7,
   "id": "f9b55b2b",
   "metadata": {},
   "outputs": [
    {
     "name": "stdout",
     "output_type": "stream",
     "text": [
      "(1920, 1080)\n"
     ]
    }
   ],
   "source": [
    "# Example: Tuple\n",
    "dimensions = (1920, 1080)\n",
    "print(dimensions)"
   ]
  },
  {
   "cell_type": "markdown",
   "id": "842d793d",
   "metadata": {},
   "source": [
    "## 4. Dictionaries\n",
    "Dictionaries store key-value pairs."
   ]
  },
  {
   "cell_type": "code",
   "execution_count": 12,
   "id": "ad5e1167",
   "metadata": {},
   "outputs": [
    {
     "name": "stdout",
     "output_type": "stream",
     "text": [
      "Alice\n",
      "{'name': 'Alice', 'age': 'twenty five', 'major': 'Data Science'}\n"
     ]
    }
   ],
   "source": [
    "# Example: Dictionary\n",
    "student = {'name': 'Alice', 'age': 22, 'major': 'Data Science'}\n",
    "print(student['name'])\n",
    "\n",
    "student['age'] = 'twenty five'\n",
    "print(student)"
   ]
  },
  {
   "cell_type": "markdown",
   "id": "7c320938",
   "metadata": {},
   "source": [
    "## 5. Sets\n",
    "Sets are unordered collections of unique items."
   ]
  },
  {
   "cell_type": "code",
   "execution_count": 17,
   "id": "c335ec48",
   "metadata": {},
   "outputs": [
    {
     "name": "stdout",
     "output_type": "stream",
     "text": [
      "{1, 2, 3}\n",
      "{'a', 1, 2, 'c', 'b'}\n"
     ]
    }
   ],
   "source": [
    "# Example: Set\n",
    "unique_numbers = {3, 1, 2, 3, 2, 1}\n",
    "print(unique_numbers)\n",
    "\n",
    "\n",
    "a = {'a', 'b' ,'a', 'c', 1, 2}\n",
    "print(a)"
   ]
  },
  {
   "cell_type": "markdown",
   "id": "578c0eae",
   "metadata": {},
   "source": [
    "## 6. Control Flow: if, for, while\n",
    "Control flow statements allow you to execute code conditionally or repeatedly."
   ]
  },
  {
   "cell_type": "code",
   "execution_count": null,
   "id": "abd05d5f",
   "metadata": {},
   "outputs": [
    {
     "name": "stdout",
     "output_type": "stream",
     "text": [
      "0 is even\n",
      "1 is odd\n",
      "2 is even\n",
      "3 is odd\n",
      "4 is even\n"
     ]
    }
   ],
   "source": [
    "# Example: Control Flow\n",
    "for i in range(5):\n",
    "    if i % 2 == 0:\n",
    "        print(f'{i} is even')\n",
    "    else:\n",
    "        print(f'{i} is odd')"
   ]
  },
  {
   "cell_type": "markdown",
   "id": "529be93c",
   "metadata": {},
   "source": [
    "## 7. Functions\n",
    "Functions are reusable blocks of code."
   ]
  },
  {
   "cell_type": "code",
   "execution_count": 22,
   "id": "f58014c2",
   "metadata": {},
   "outputs": [
    {
     "name": "stdout",
     "output_type": "stream",
     "text": [
      "64\n"
     ]
    }
   ],
   "source": [
    "# Example: Function\n",
    "def square(x):\n",
    "    return x * x\n",
    "print(square(8))"
   ]
  },
  {
   "cell_type": "markdown",
   "id": "394b4989",
   "metadata": {},
   "source": [
    "## 8. List Comprehensions\n",
    "List comprehensions provide a concise way to create lists."
   ]
  },
  {
   "cell_type": "code",
   "execution_count": null,
   "id": "6c123113",
   "metadata": {},
   "outputs": [
    {
     "name": "stdout",
     "output_type": "stream",
     "text": [
      "[1, 2, 3, 4, 5, 6, 7, 8, 9, 10]\n"
     ]
    }
   ],
   "source": [
    "# Example: List Comprehension\n",
    "squares = [x**2 for x in range(10)]\n",
    "print(squares)"
   ]
  },
  {
   "cell_type": "markdown",
   "id": "0437fb4a",
   "metadata": {},
   "source": [
    "## 9. Importing Libraries\n",
    "Importing libraries is essential for data science tasks."
   ]
  },
  {
   "cell_type": "code",
   "execution_count": 32,
   "id": "9f99d5ae",
   "metadata": {},
   "outputs": [],
   "source": [
    "# Example: Importing Libraries\n",
    "import numpy as np\n",
    "import pandas as pd"
   ]
  },
  {
   "cell_type": "markdown",
   "id": "2d56bd25",
   "metadata": {},
   "source": [
    "## 10. Numpy Arrays\n",
    "Numpy arrays are used for efficient numerical computations."
   ]
  },
  {
   "cell_type": "code",
   "execution_count": 36,
   "id": "3277dcca",
   "metadata": {},
   "outputs": [
    {
     "name": "stdout",
     "output_type": "stream",
     "text": [
      "[2 4 6 8] <class 'numpy.ndarray'>\n",
      "[1, 2, 3, 4, 1, 2, 3, 4] <class 'list'>\n"
     ]
    }
   ],
   "source": [
    "# Example: Numpy Array\n",
    "import numpy as np\n",
    "arr = np.array([1, 2, 3, 4])\n",
    "print(arr * 2, type(arr))\n",
    "\n",
    "b = [1, 2, 3, 4] * 2\n",
    "print(b, type(b))"
   ]
  },
  {
   "cell_type": "markdown",
   "id": "dbe6f9f6",
   "metadata": {},
   "source": [
    "## 11. Pandas DataFrames\n",
    "Pandas DataFrames are essential for data manipulation and analysis."
   ]
  },
  {
   "cell_type": "code",
   "execution_count": 39,
   "id": "24b8cedb",
   "metadata": {},
   "outputs": [
    {
     "name": "stdout",
     "output_type": "stream",
     "text": [
      "   A  B\n",
      "0  1  3\n",
      "1  2  4\n",
      "2  5  6\n"
     ]
    }
   ],
   "source": [
    "# Example: Pandas DataFrame\n",
    "import pandas as pd\n",
    "data = {'A': [1, 2, 5], 'B': [3, 4, 6]}\n",
    "df = pd.DataFrame(data)\n",
    "print(df)"
   ]
  }
 ],
 "metadata": {
  "kernelspec": {
   "display_name": "Python 3",
   "language": "python",
   "name": "python3"
  },
  "language_info": {
   "codemirror_mode": {
    "name": "ipython",
    "version": 3
   },
   "file_extension": ".py",
   "mimetype": "text/x-python",
   "name": "python",
   "nbconvert_exporter": "python",
   "pygments_lexer": "ipython3",
   "version": "3.12.2"
  }
 },
 "nbformat": 4,
 "nbformat_minor": 5
}
